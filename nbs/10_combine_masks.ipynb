{
 "cells": [
  {
   "cell_type": "code",
   "execution_count": null,
   "metadata": {},
   "outputs": [],
   "source": [
    "%reload_ext autoreload\n",
    "%autoreload 2\n",
    "%matplotlib inline\n",
    "import zeus.notebook_utils.syspath as syspath\n",
    "syspath.add_parent_folder()"
   ]
  },
  {
   "cell_type": "code",
   "execution_count": null,
   "metadata": {},
   "outputs": [],
   "source": [
    "import os\n",
    "import matplotlib.pyplot as plt\n",
    "import pandas as pd\n",
    "from zeus.utils import list_files\n",
    "from kidney.datasets.kaggle import get_reader, SampleType\n",
    "from kidney.inference.prediction import read_predictions, MajorityVotePrediction\n",
    "from kidney.utils.mask import rle_decode, rle_numba_encode"
   ]
  },
  {
   "cell_type": "code",
   "execution_count": null,
   "metadata": {},
   "outputs": [],
   "source": [
    "PREDICTIONS_DIR = os.path.join(os.environ[\"DATASET_ROOT\"], \"predictions\")"
   ]
  },
  {
   "cell_type": "code",
   "execution_count": null,
   "metadata": {},
   "outputs": [],
   "source": [
    "reader = get_reader()"
   ]
  },
  {
   "cell_type": "code",
   "execution_count": null,
   "metadata": {},
   "outputs": [],
   "source": [
    "[dirname] = list_files(PREDICTIONS_DIR)"
   ]
  },
  {
   "cell_type": "code",
   "execution_count": null,
   "metadata": {},
   "outputs": [],
   "source": [
    "test_keys = reader.get_keys(SampleType.Unlabeled)"
   ]
  },
  {
   "cell_type": "code",
   "execution_count": null,
   "metadata": {},
   "outputs": [],
   "source": [
    "predictions = read_predictions(dirname).to_dict(\"index\")"
   ]
  },
  {
   "cell_type": "code",
   "execution_count": null,
   "metadata": {},
   "outputs": [],
   "source": [
    "encoded_masks = []\n",
    "n = len(test_keys)\n",
    "for i, key in enumerate(test_keys):\n",
    "    print(f\"Predicting key {key} ({i+1} of {n})\")\n",
    "    sample = reader.fetch_one(key)\n",
    "    image = sample[\"image\"]\n",
    "    mask_size = image.shape[:2]\n",
    "    predictor = MajorityVotePrediction(\n",
    "        predictions=predictions,\n",
    "        mask_size=mask_size,\n",
    "        majority=0.5\n",
    "    )\n",
    "    mask_pred = predictor(key)\n",
    "    encoded = rle_numba_encode(mask_pred)\n",
    "    encoded_masks.append({\"id\": key, \"predicted\": encoded})"
   ]
  },
  {
   "cell_type": "code",
   "execution_count": null,
   "metadata": {},
   "outputs": [],
   "source": [
    "encoded_masks_df = pd.DataFrame(encoded_masks)"
   ]
  },
  {
   "cell_type": "code",
   "execution_count": null,
   "metadata": {},
   "outputs": [],
   "source": [
    "# !ls /mnt/fast/kaggle/submits/kidney"
   ]
  },
  {
   "cell_type": "code",
   "execution_count": null,
   "metadata": {},
   "outputs": [],
   "source": [
    "experiment_name = \"smp_upp_effnet_b4_dice_1c_o256_folds_4_maj_05\""
   ]
  },
  {
   "cell_type": "code",
   "execution_count": null,
   "metadata": {},
   "outputs": [],
   "source": [
    "encoded_masks_df.to_csv(f\"/mnt/fast/kaggle/submits/kidney/{experiment_name}.csv\", index=False)"
   ]
  },
  {
   "cell_type": "code",
   "execution_count": null,
   "metadata": {},
   "outputs": [],
   "source": []
  }
 ],
 "metadata": {
  "kernelspec": {
   "display_name": "Kidney (3.7)",
   "language": "python",
   "name": "kidney"
  },
  "language_info": {
   "codemirror_mode": {
    "name": "ipython",
    "version": 3
   },
   "file_extension": ".py",
   "mimetype": "text/x-python",
   "name": "python",
   "nbconvert_exporter": "python",
   "pygments_lexer": "ipython3",
   "version": "3.7.8"
  }
 },
 "nbformat": 4,
 "nbformat_minor": 4
}
