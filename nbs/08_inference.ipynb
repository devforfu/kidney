{
 "cells": [
  {
   "cell_type": "code",
   "execution_count": null,
   "metadata": {},
   "outputs": [],
   "source": [
    "%reload_ext autoreload\n",
    "%autoreload 2\n",
    "import zeus.notebook_utils.syspath as syspath\n",
    "syspath.add_parent_folder()"
   ]
  },
  {
   "cell_type": "code",
   "execution_count": null,
   "metadata": {},
   "outputs": [],
   "source": [
    "import cv2 as cv\n",
    "import os\n",
    "import rasterio\n",
    "import numpy as np\n",
    "import PIL.Image\n",
    "from rasterio.windows import Window\n",
    "from kidney.datasets.kaggle import outlier, get_reader, DatasetReader, SampleType\n",
    "from kidney.inference.window import sliding_window_boxes\n",
    "from kidney.utils.tiff import read_tiff"
   ]
  },
  {
   "cell_type": "code",
   "execution_count": null,
   "metadata": {},
   "outputs": [],
   "source": [
    "reader = get_reader()"
   ]
  },
  {
   "cell_type": "code",
   "execution_count": null,
   "metadata": {},
   "outputs": [],
   "source": [
    "test_keys = reader.get_keys(SampleType.Unlabeled)"
   ]
  },
  {
   "cell_type": "code",
   "execution_count": null,
   "metadata": {},
   "outputs": [],
   "source": [
    "dirname = \"/tmp/boxes\"\n",
    "os.makedirs(dirname, exist_ok=True)\n",
    "for key in test_keys:\n",
    "    meta = reader.fetch_meta(key)\n",
    "    with rasterio.open(meta[\"tiff\"]) as dataset:\n",
    "        h, w = dataset.shape\n",
    "        boxes = sliding_window_boxes(w, h, 512, 32)\n",
    "        for i, box in enumerate(boxes, 1):\n",
    "            x1, y1, x2, y2 = box\n",
    "            crop = dataset.read([1, 2, 3], window=Window.from_slices((y1, y2), (x1, x2)))\n",
    "            filename = os.path.join(dirname, f\"{key}_{x1}_{y1}_{x2}_{y2}.png\")\n",
    "            PIL.Image.fromarray(np.moveaxis(crop, 0, -1)).save(filename)\n",
    "            print(f\"Image saved: {i}\")\n",
    "    break"
   ]
  },
  {
   "cell_type": "code",
   "execution_count": null,
   "metadata": {},
   "outputs": [],
   "source": [
    "import glob\n",
    "sizes = {PIL.Image.open(filename).size for filename in glob.glob(f\"{dirname}/*.png\")}"
   ]
  },
  {
   "cell_type": "code",
   "execution_count": null,
   "metadata": {},
   "outputs": [],
   "source": [
    "sizes"
   ]
  },
  {
   "cell_type": "code",
   "execution_count": null,
   "metadata": {},
   "outputs": [],
   "source": []
  },
  {
   "cell_type": "code",
   "execution_count": null,
   "metadata": {},
   "outputs": [],
   "source": [
    "img = read_tiff(meta[\"tiff\"])"
   ]
  },
  {
   "cell_type": "code",
   "execution_count": null,
   "metadata": {},
   "outputs": [],
   "source": [
    "img = cv.UMat(img)"
   ]
  },
  {
   "cell_type": "code",
   "execution_count": null,
   "metadata": {},
   "outputs": [],
   "source": [
    "for box in boxes:\n",
    "    x1, y1, x2, y2 = box\n",
    "    cv.rectangle(img, (x1, y1), (x2, y2), (255, 0, 0), 2)\n",
    "    break"
   ]
  },
  {
   "cell_type": "code",
   "execution_count": null,
   "metadata": {},
   "outputs": [],
   "source": [
    "import matplotlib.pyplot as plt"
   ]
  },
  {
   "cell_type": "code",
   "execution_count": null,
   "metadata": {},
   "outputs": [],
   "source": [
    "plt.imshow(img.get())"
   ]
  },
  {
   "cell_type": "code",
   "execution_count": null,
   "metadata": {},
   "outputs": [],
   "source": []
  }
 ],
 "metadata": {
  "kernelspec": {
   "display_name": "Kidney (3.7)",
   "language": "python",
   "name": "kidney"
  },
  "language_info": {
   "codemirror_mode": {
    "name": "ipython",
    "version": 3
   },
   "file_extension": ".py",
   "mimetype": "text/x-python",
   "name": "python",
   "nbconvert_exporter": "python",
   "pygments_lexer": "ipython3",
   "version": "3.7.8"
  }
 },
 "nbformat": 4,
 "nbformat_minor": 4
}
