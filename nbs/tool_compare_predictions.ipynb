{
 "cells": [
  {
   "cell_type": "code",
   "execution_count": null,
   "metadata": {},
   "outputs": [],
   "source": [
    "%reload_ext autoreload\n",
    "%autoreload 2\n",
    "%matplotlib inline\n",
    "import zeus.notebook_utils.syspath as syspath\n",
    "syspath.add_parent_folder()"
   ]
  },
  {
   "cell_type": "code",
   "execution_count": null,
   "metadata": {},
   "outputs": [],
   "source": [
    "import os\n",
    "from dataclasses import dataclass\n",
    "from pathlib import Path\n",
    "from operator import itemgetter\n",
    "\n",
    "import cv2 as cv\n",
    "import matplotlib.pyplot as plt\n",
    "import pandas as pd\n",
    "\n",
    "from zeus.utils import list_files\n",
    "from kidney.datasets.kaggle import get_reader\n",
    "from kidney.utils.mask import rle_decode"
   ]
  },
  {
   "cell_type": "code",
   "execution_count": null,
   "metadata": {},
   "outputs": [],
   "source": [
    "PREDICTIONS_DIR = os.path.join(os.environ[\"DATASET_ROOT\"], \"predictions\")"
   ]
  },
  {
   "cell_type": "code",
   "execution_count": null,
   "metadata": {},
   "outputs": [],
   "source": [
    "reader = get_reader()"
   ]
  },
  {
   "cell_type": "code",
   "execution_count": null,
   "metadata": {},
   "outputs": [],
   "source": [
    "model_dirs = list_files(PREDICTIONS_DIR)\n",
    "model_dir = model_dirs[0]\n",
    "model_dir"
   ]
  },
  {
   "cell_type": "code",
   "execution_count": null,
   "metadata": {},
   "outputs": [],
   "source": [
    "def read_predictions(root: str):\n",
    "    folds = []\n",
    "    for fn in list_files(root):\n",
    "        name = Path(fn).stem\n",
    "        order = int(name.split(\"_\")[-1])\n",
    "        folds.append((order, fn))\n",
    "    \n",
    "    acc, *rest = [\n",
    "        pd.read_csv(fn).set_index(\"id\")\n",
    "        for _, fn in sorted(folds, key=itemgetter(0))\n",
    "    ]\n",
    "    \n",
    "    for df in rest:\n",
    "        acc = pd.merge(acc, df, left_index=True, right_index=True)\n",
    "    acc.columns = range(len(folds))\n",
    "\n",
    "    return acc"
   ]
  },
  {
   "cell_type": "code",
   "execution_count": null,
   "metadata": {},
   "outputs": [],
   "source": [
    "rle_df = read_predictions(model_dir)\n",
    "rle_df"
   ]
  },
  {
   "cell_type": "code",
   "execution_count": null,
   "metadata": {},
   "outputs": [],
   "source": [
    "sample_key = \"0486052bb\""
   ]
  },
  {
   "cell_type": "code",
   "execution_count": null,
   "metadata": {},
   "outputs": [],
   "source": [
    "sample = reader.fetch_one(sample_key)"
   ]
  },
  {
   "cell_type": "code",
   "execution_count": null,
   "metadata": {},
   "outputs": [],
   "source": [
    "mask_size = sample[\"image\"].shape[:2]"
   ]
  },
  {
   "cell_type": "code",
   "execution_count": null,
   "metadata": {},
   "outputs": [],
   "source": [
    "reader.fetch_meta(sample_key).keys()"
   ]
  },
  {
   "cell_type": "code",
   "execution_count": null,
   "metadata": {},
   "outputs": [],
   "source": [
    "import numpy as np\n",
    "from typing import Dict, Tuple, List\n",
    "\n",
    "\n",
    "@dataclass\n",
    "class CombinedPrediction:\n",
    "    predictions: Dict\n",
    "    mask_size: Tuple[int, int]\n",
    "        \n",
    "    def __call__(self, sample_key: str) -> np.ndarray:\n",
    "        raise NotImplementedError()\n",
    "        \n",
    "\n",
    "class MajorityVotePrediction(CombinedPrediction):\n",
    "    majority: float = 0.5\n",
    "    \n",
    "    def __call__(self, sample_key: str) -> np.ndarray:\n",
    "        rle_masks = self.predictions[sample_key]\n",
    "        n_folds = len(rle_masks)\n",
    "        majority_threshold = int(self.majority * n_folds)\n",
    "        mask_pred = np.zeros(self.mask_size, dtype=np.uint8)\n",
    "        for fold_name, mask in rle_masks.items():\n",
    "            mask_pred += rle_decode(mask, self.mask_size)\n",
    "        mask_pred = mask_pred > majority_threshold\n",
    "        return mask_pred.astype(np.uint8)"
   ]
  },
  {
   "cell_type": "code",
   "execution_count": null,
   "metadata": {},
   "outputs": [],
   "source": [
    "rle_dict = rle_df.to_dict(\"index\")"
   ]
  },
  {
   "cell_type": "code",
   "execution_count": null,
   "metadata": {},
   "outputs": [],
   "source": [
    "prediction = MajorityVotePrediction(rle_dict, mask_size)"
   ]
  },
  {
   "cell_type": "code",
   "execution_count": null,
   "metadata": {},
   "outputs": [],
   "source": [
    "majority_mask = prediction(sample_key)"
   ]
  },
  {
   "cell_type": "code",
   "execution_count": null,
   "metadata": {},
   "outputs": [],
   "source": [
    "thumbnail = cv.resize(majority_mask, (2048, 2048))\n",
    "thumbnail *= 255\n",
    "_, ax = plt.subplots(1, 1, figsize=(16, 16))\n",
    "ax.imshow(thumbnail)"
   ]
  },
  {
   "cell_type": "code",
   "execution_count": null,
   "metadata": {},
   "outputs": [],
   "source": [
    "thumbnail.mean()"
   ]
  },
  {
   "cell_type": "code",
   "execution_count": null,
   "metadata": {},
   "outputs": [],
   "source": [
    "majority_mask.min(), majority_mask.max()"
   ]
  },
  {
   "cell_type": "code",
   "execution_count": null,
   "metadata": {},
   "outputs": [],
   "source": []
  }
 ],
 "metadata": {
  "kernelspec": {
   "display_name": "Kidney (3.7)",
   "language": "python",
   "name": "kidney"
  },
  "language_info": {
   "codemirror_mode": {
    "name": "ipython",
    "version": 3
   },
   "file_extension": ".py",
   "mimetype": "text/x-python",
   "name": "python",
   "nbconvert_exporter": "python",
   "pygments_lexer": "ipython3",
   "version": "3.7.8"
  }
 },
 "nbformat": 4,
 "nbformat_minor": 4
}
