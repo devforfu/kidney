{
 "cells": [
  {
   "cell_type": "code",
   "execution_count": null,
   "metadata": {},
   "outputs": [],
   "source": [
    "%reload_ext autoreload\n",
    "%autoreload 2\n",
    "%matplotlib inline\n",
    "import zeus.notebook_utils.syspath as syspath\n",
    "syspath.add_parent_folder()"
   ]
  },
  {
   "cell_type": "code",
   "execution_count": null,
   "metadata": {},
   "outputs": [],
   "source": [
    "import os\n",
    "import random\n",
    "\n",
    "import numpy as np\n",
    "import PIL.Image\n",
    "from zeus.plotting.utils import axes\n",
    "\n",
    "from kidney.datasets.utils import read_segmentation_info"
   ]
  },
  {
   "cell_type": "code",
   "execution_count": null,
   "metadata": {},
   "outputs": [],
   "source": [
    "img_info = read_segmentation_info(\"/mnt/fast/data/cuts/mask_t10_256\", file_format=\"enum\")"
   ]
  },
  {
   "cell_type": "code",
   "execution_count": null,
   "metadata": {},
   "outputs": [],
   "source": [
    "len(img_info)"
   ]
  },
  {
   "cell_type": "code",
   "execution_count": null,
   "metadata": {},
   "outputs": [],
   "source": [
    "cols, rows = 7, 7\n",
    "ax = axes(subplots=(cols, rows), figsize=(18, 18))\n",
    "samples = random.sample(img_info, k=cols*rows)\n",
    "for i in range(rows):\n",
    "    for j in range(cols):\n",
    "        x = samples[i + j*cols]\n",
    "        img = np.asarray(PIL.Image.open(x[\"img\"]))\n",
    "        seg = np.asarray(PIL.Image.open(x[\"seg\"]))\n",
    "        ax[i][j].imshow(PIL.Image.fromarray(img))\n",
    "        ax[i][j].imshow(PIL.Image.fromarray(seg), alpha=0.2)\n",
    "        ax[i][j].axis(\"off\")"
   ]
  },
  {
   "cell_type": "code",
   "execution_count": null,
   "metadata": {},
   "outputs": [],
   "source": [
    "reader = get_reader()"
   ]
  },
  {
   "cell_type": "code",
   "execution_count": null,
   "metadata": {},
   "outputs": [],
   "source": [
    "keys = reader.get_keys(SampleType.Labeled)"
   ]
  },
  {
   "cell_type": "code",
   "execution_count": null,
   "metadata": {},
   "outputs": [],
   "source": [
    "CONFIG = {\n",
    "    \"256px\": {\n",
    "        \"reduce\": 4,\n",
    "        \"tile_size\": 256,\n",
    "    },\n",
    "    \"1024px\": {\n",
    "        \"reduce\": 1,\n",
    "        \"tile_size\": 1024\n",
    "    }\n",
    "}\n",
    "\n",
    "config_name = \"1024px\"\n",
    "\n",
    "REDUCE_MULT = CONFIG[config_name][\"reduce\"]\n",
    "TILE_SIZE = CONFIG[config_name][\"tile_size\"]\n",
    "MOD = REDUCE_MULT * TILE_SIZE"
   ]
  },
  {
   "cell_type": "code",
   "execution_count": null,
   "metadata": {},
   "outputs": [],
   "source": [
    "sz = TILE_SIZE"
   ]
  },
  {
   "cell_type": "code",
   "execution_count": null,
   "metadata": {},
   "outputs": [],
   "source": [
    "sample = reader.fetch_one(keys[0])"
   ]
  },
  {
   "cell_type": "code",
   "execution_count": null,
   "metadata": {},
   "outputs": [],
   "source": [
    "crops = cut_sample(sample, TILE_SIZE)"
   ]
  },
  {
   "cell_type": "code",
   "execution_count": null,
   "metadata": {},
   "outputs": [],
   "source": [
    "img, seg = sample[\"image\"], sample[\"mask\"]"
   ]
  },
  {
   "cell_type": "code",
   "execution_count": null,
   "metadata": {},
   "outputs": [],
   "source": [
    "padded = pad_sample({\"img\": img, \"seg\": seg}, TILE_SIZE)"
   ]
  },
  {
   "cell_type": "code",
   "execution_count": null,
   "metadata": {},
   "outputs": [],
   "source": [
    "padded[\"img\"].shape, padded[\"seg\"].shape"
   ]
  },
  {
   "cell_type": "code",
   "execution_count": null,
   "metadata": {},
   "outputs": [],
   "source": [
    "output_dir = \"/tmp/images\"\n",
    "\n",
    "os.makedirs(output_dir, exist_ok=True)\n",
    "\n",
    "for key in keys:\n",
    "    sample = reader.fetch_one(key)\n",
    "    crops = cut_sample(sample, TILE_SIZE)\n",
    "    img, seg = sample[\"image\"], sample[\"mask\"]\n",
    "    \n",
    "    "
   ]
  },
  {
   "cell_type": "code",
   "execution_count": null,
   "metadata": {},
   "outputs": [],
   "source": [
    "# h, w = shape = img.shape[:2]\n",
    "# pad0 = (MOD - h%MOD)%MOD\n",
    "# pad1 = (MOD - w%MOD)%MOD"
   ]
  },
  {
   "cell_type": "code",
   "execution_count": null,
   "metadata": {},
   "outputs": [],
   "source": [
    "# (MOD - (h%MOD))%MOD"
   ]
  },
  {
   "cell_type": "code",
   "execution_count": null,
   "metadata": {},
   "outputs": [],
   "source": [
    "# padding = [[pad0//2, pad0 - pad0//2], [pad1//2, pad1 - pad1//2]]\n",
    "# img = np.pad(img, padding + [[0, 0]], constant_values=0)\n",
    "# seg = np.pad(seg, padding, constant_values=0)"
   ]
  },
  {
   "cell_type": "code",
   "execution_count": null,
   "metadata": {},
   "outputs": [],
   "source": [
    "# new_size = img.shape[1]//REDUCE_MULT, img.shape[0]//REDUCE_MULT\n",
    "# img = cv.resize(img, new_size, interpolation=cv.INTER_AREA)\n",
    "# img = img.reshape(img.shape[0]//sz, sz, img.shape[1]//sz, sz, 3)\n",
    "# img = img.transpose(0, 2, 1, 3, 4).reshape(-1, sz, sz, 3)"
   ]
  },
  {
   "cell_type": "code",
   "execution_count": null,
   "metadata": {},
   "outputs": [],
   "source": [
    "# seg = cv.resize(seg, new_size, interpolation=cv.INTER_NEAREST)\n",
    "# seg = seg.reshape(seg.shape[0]//sz, sz, seg.shape[1]//sz, sz)\n",
    "# seg = seg.transpose(0, 2, 1, 3).reshape(-1, sz, sz)"
   ]
  },
  {
   "cell_type": "code",
   "execution_count": null,
   "metadata": {},
   "outputs": [],
   "source": [
    "# img.shape, seg.shape"
   ]
  },
  {
   "cell_type": "code",
   "execution_count": null,
   "metadata": {},
   "outputs": [],
   "source": [
    "t_saturation = 40 \n",
    "t_pixels = 200 * sz // 256\n",
    "output_dir = \"/tmp/images\"\n",
    "\n",
    "sz = TILE_SIZE\n",
    "\n",
    "os.makedirs(output_dir, exist_ok=True)\n",
    "\n",
    "for key in keys:\n",
    "    sample = reader.fetch_one(key)\n",
    "    img, seg = sample[\"image\"], sample[\"mask\"]\n",
    "\n",
    "    h, w = img.shape[:2]\n",
    "    pad0 = (MOD - h%MOD)%MOD\n",
    "    pad1 = (MOD - w%MOD)%MOD\n",
    "    \n",
    "    padding = [[pad0//2, pad0 - pad0//2], [pad1//2, pad1 - pad1//2]]\n",
    "    img = np.pad(img, padding + [[0, 0]], constant_values=0)\n",
    "    seg = np.pad(seg, padding, constant_values=0)\n",
    "    \n",
    "    new_size = img.shape[1]//REDUCE_MULT, img.shape[0]//REDUCE_MULT\n",
    "    img = cv.resize(img, new_size, interpolation=cv.INTER_AREA)\n",
    "    img = img.reshape(img.shape[0]//sz, sz, img.shape[1]//sz, sz, 3)\n",
    "    img = img.transpose(0, 2, 1, 3, 4).reshape(-1, sz, sz, 3)\n",
    "    \n",
    "    seg = cv.resize(seg, new_size, interpolation=cv.INTER_NEAREST)\n",
    "    seg = seg.reshape(seg.shape[0]//sz, sz, seg.shape[1]//sz, sz)\n",
    "    seg = seg.transpose(0, 2, 1, 3).reshape(-1, sz, sz)\n",
    "\n",
    "    mean, mean_sq = [], []\n",
    "    \n",
    "    for i, (image, mask) in enumerate(zip(img, seg)):\n",
    "        hsv = cv.cvtColor(image, cv.COLOR_RGB2HSV)\n",
    "        h, s, v = cv.split(hsv)\n",
    "\n",
    "        if (s > t_saturation).sum() <= t_pixels:\n",
    "            continue\n",
    "\n",
    "        if image.sum() <= t_pixels:\n",
    "            continue\n",
    "\n",
    "        mean.append((image/255.).reshape(-1, 3).mean(0))\n",
    "        mean_sq.append(((image/255.)**2).reshape(-1, 3).mean(0))\n",
    "        \n",
    "        img_file = os.path.join(output_dir, f\"img.{key}_{i}.png\")\n",
    "        PIL.Image.fromarray(image).save(img_file, format=\"png\")\n",
    "\n",
    "        seg_file = os.path.join(output_dir, f\"seg.{key}_{i}.png\")\n",
    "        PIL.Image.fromarray(mask*255).save(seg_file, format=\"png\")\n",
    "        \n",
    "    break"
   ]
  },
  {
   "cell_type": "code",
   "execution_count": null,
   "metadata": {},
   "outputs": [],
   "source": [
    "img_info = read_segmentation_info(\"/tmp/images\", file_format=\"enum\")"
   ]
  },
  {
   "cell_type": "code",
   "execution_count": null,
   "metadata": {},
   "outputs": [],
   "source": [
    "cols, rows = 5, 5\n",
    "ax = axes(subplots=(cols, rows), figsize=(20, 20))\n",
    "samples = random.sample(img_info, k=cols*rows)\n",
    "for i in range(rows):\n",
    "    for j in range(cols):\n",
    "        x = samples[i + j*cols]\n",
    "        img = np.asarray(PIL.Image.open(x[\"img\"]))\n",
    "        seg = np.asarray(PIL.Image.open(x[\"seg\"]))\n",
    "        ax[i][j].imshow(PIL.Image.fromarray(img))\n",
    "        ax[i][j].imshow(PIL.Image.fromarray(seg), alpha=0.2)\n",
    "        ax[i][j].axis(\"off\")"
   ]
  },
  {
   "cell_type": "code",
   "execution_count": null,
   "metadata": {},
   "outputs": [],
   "source": []
  }
 ],
 "metadata": {
  "kernelspec": {
   "display_name": "Kidney (3.7)",
   "language": "python",
   "name": "kidney"
  },
  "language_info": {
   "codemirror_mode": {
    "name": "ipython",
    "version": 3
   },
   "file_extension": ".py",
   "mimetype": "text/x-python",
   "name": "python",
   "nbconvert_exporter": "python",
   "pygments_lexer": "ipython3",
   "version": "3.7.8"
  }
 },
 "nbformat": 4,
 "nbformat_minor": 4
}
