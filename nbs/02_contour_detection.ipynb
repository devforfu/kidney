{
 "cells": [
  {
   "cell_type": "code",
   "execution_count": null,
   "metadata": {},
   "outputs": [],
   "source": [
    "%reload_ext autoreload\n",
    "%autoreload 2\n",
    "import zeus.notebook_utils.syspath as syspath\n",
    "syspath.add_parent_folder()"
   ]
  },
  {
   "cell_type": "code",
   "execution_count": null,
   "metadata": {},
   "outputs": [],
   "source": [
    "from typing import Tuple\n",
    "import cv2 as cv\n",
    "import numpy as np\n",
    "import matplotlib.pyplot as plt\n",
    "from kidney.utils.plotting import overlay\n",
    "from kidney.datasets.kaggle import get_reader, SampleType\n",
    "from zeus.plotting.utils import calculate_layout"
   ]
  },
  {
   "cell_type": "code",
   "execution_count": null,
   "metadata": {},
   "outputs": [],
   "source": [
    "THUMBNAIL_SIZE = 1024, 1024"
   ]
  },
  {
   "cell_type": "code",
   "execution_count": null,
   "metadata": {},
   "outputs": [],
   "source": [
    "reader = get_reader()"
   ]
  },
  {
   "cell_type": "code",
   "execution_count": null,
   "metadata": {},
   "outputs": [],
   "source": [
    "keys = reader.get_keys(SampleType.Labeled)"
   ]
  },
  {
   "cell_type": "code",
   "execution_count": null,
   "metadata": {},
   "outputs": [],
   "source": [
    "def detect_roi(image: np.ndarray, thumbnail_size: Tuple[int, int] = THUMBNAIL_SIZE) -> Tuple[int, int, int, int]:\n",
    "    thumbnail = cv.resize(image, thumbnail_size)\n",
    "    gray = cv.cvtColor(thumbnail, cv.COLOR_BGR2GRAY)\n",
    "    wt, ht = thumbnail_size\n",
    "    thresh = cv.threshold(gray, 0, 255, cv.THRESH_OTSU + cv.THRESH_BINARY)[1]\n",
    "    contours = cv.findContours(thresh, cv.RETR_EXTERNAL, cv.CHAIN_APPROX_SIMPLE)\n",
    "    contours = contours[0] if len(contours) else contours[1]\n",
    "    contours = sorted(contours, key=cv.contourArea, reverse=True)\n",
    "    biggest = contours[0]\n",
    "    xr, yr, wr, hr = cv.boundingRect(biggest)\n",
    "    w0, h0 = image.shape[1], image.shape[0]\n",
    "    wt, ht = thumbnail_size\n",
    "    rw, rh = w0/wt, h0/ht\n",
    "    x0, y0, x1, y1 = [int(v) for v in [\n",
    "        (xr * rw),\n",
    "        (yr * rh),\n",
    "        (xr + wr) * rw,\n",
    "        (yr + hr) * rh\n",
    "    ]]\n",
    "    return x0, y0, x1, y1"
   ]
  },
  {
   "cell_type": "code",
   "execution_count": null,
   "metadata": {},
   "outputs": [],
   "source": [
    "n, m = calculate_layout(len(keys), n_cols=2)\n",
    "\n",
    "f, axes = plt.subplots(n, m, figsize=(m * 8, n * 8))\n",
    "\n",
    "for ax in axes.flat:\n",
    "    ax.set_visible(False)\n",
    "\n",
    "for i, key in enumerate(keys):\n",
    "    image = reader.fetch_one(key)['image']\n",
    "    ax = axes.flat[i]\n",
    "    ax.set_visible(True)\n",
    "    x0, y0, x1, y1 = detect_roi(image)\n",
    "    thumbnail = cv.resize(image[y0:y1, x0:x1, :], THUMBNAIL_SIZE)\n",
    "    ax.imshow(thumbnail)"
   ]
  }
 ],
 "metadata": {
  "kernelspec": {
   "display_name": "Kidney (3.7)",
   "language": "python",
   "name": "kidney"
  },
  "language_info": {
   "codemirror_mode": {
    "name": "ipython",
    "version": 3
   },
   "file_extension": ".py",
   "mimetype": "text/x-python",
   "name": "python",
   "nbconvert_exporter": "python",
   "pygments_lexer": "ipython3",
   "version": "3.7.8"
  }
 },
 "nbformat": 4,
 "nbformat_minor": 4
}
