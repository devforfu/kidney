{
 "cells": [
  {
   "cell_type": "code",
   "execution_count": null,
   "metadata": {},
   "outputs": [],
   "source": [
    "%reload_ext autoreload\n",
    "%autoreload 2\n",
    "%matplotlib inline\n",
    "import zeus.notebook_utils.syspath as syspath\n",
    "syspath.add_parent_folder()"
   ]
  },
  {
   "cell_type": "code",
   "execution_count": null,
   "metadata": {},
   "outputs": [],
   "source": [
    "import ast\n",
    "import re\n",
    "from itertools import product\n",
    "from operator import itemgetter\n",
    "from typing import Any, Dict, Type\n",
    "\n",
    "import numpy as np\n",
    "import pandas as pd\n",
    "import wandb\n",
    "from zeus.utils import named_match\n",
    "\n",
    "from kidney.datasets.kaggle import get_reader\n",
    "from kidney.datasets.offline import create_data_loaders\n",
    "from kidney.datasets.utils import read_segmentation_info\n",
    "from kidney.experiments.smp import SMPExperiment, parse_fold_keys\n",
    "from kidney.utils.checkpoints import CheckpointsStorage, load_experiment"
   ]
  },
  {
   "cell_type": "code",
   "execution_count": null,
   "metadata": {},
   "outputs": [],
   "source": [
    "api = wandb.Api()"
   ]
  },
  {
   "cell_type": "code",
   "execution_count": null,
   "metadata": {},
   "outputs": [],
   "source": [
    "run = api.run(\"devforfu/kidney/Fri_02_Apr__21_01_46\")"
   ]
  },
  {
   "cell_type": "code",
   "execution_count": null,
   "metadata": {},
   "outputs": [],
   "source": [
    "metrics = (\"recall\", \"precision\", \"dice\", \"balanced accuracy\", \"loss\")\n",
    "\n",
    "dfs = {}\n",
    "\n",
    "for subset in (\"trn\", \"val\"):\n",
    "    subset_metrics = {f\"avg_{subset}_{metric}\" for metric in metrics}\n",
    "    history = pd.DataFrame([\n",
    "        {key: row.get(key, np.nan) for key in subset_metrics} \n",
    "        for row in run.scan_history(page_size=1000)\n",
    "    ])  \n",
    "    dfs[subset] = history"
   ]
  },
  {
   "cell_type": "code",
   "execution_count": null,
   "metadata": {},
   "outputs": [],
   "source": [
    "dfs = {\n",
    "    subset: df[df.notnull().sum(axis=1) != 0].reset_index(drop=True) \n",
    "    for subset, df in dfs.items()\n",
    "}"
   ]
  },
  {
   "cell_type": "code",
   "execution_count": null,
   "metadata": {},
   "outputs": [],
   "source": [
    "columns = [f\"avg_{x}_{y}\" for x, y in product((\"trn\", \"val\"), metrics)]"
   ]
  },
  {
   "cell_type": "code",
   "execution_count": null,
   "metadata": {},
   "outputs": [],
   "source": [
    "df_metrics = dfs[\"trn\"].join(dfs[\"val\"])[columns]"
   ]
  },
  {
   "cell_type": "code",
   "execution_count": null,
   "metadata": {},
   "outputs": [],
   "source": [
    "val_columns = [column for column in columns if \"_val_\" in column]"
   ]
  },
  {
   "cell_type": "code",
   "execution_count": null,
   "metadata": {},
   "outputs": [],
   "source": [
    "val_columns"
   ]
  },
  {
   "cell_type": "code",
   "execution_count": null,
   "metadata": {},
   "outputs": [],
   "source": [
    "precision = df_metrics[\"avg_val_precision\"]\n",
    "recall = df_metrics[\"avg_val_recall\"]\n",
    "df_metrics[\"avg_val_f1_score\"] = 2*precision*recall/(precision + recall)"
   ]
  },
  {
   "cell_type": "code",
   "execution_count": null,
   "metadata": {},
   "outputs": [],
   "source": [
    "best_val = {\n",
    "    \"recall\": df_metrics[\"avg_val_recall\"].argmax(),\n",
    "    \"precision\": df_metrics[\"avg_val_precision\"].argmax(),\n",
    "    \"f1_score\": df_metrics[\"avg_val_f1_score\"].argmax(),\n",
    "    \"dice\": df_metrics[\"avg_val_dice\"].argmax(),\n",
    "    \"balanced_accuacy\": df_metrics[\"avg_val_balanced accuracy\"].argmax(),\n",
    "    \"loss\": df_metrics[\"avg_val_loss\"].argmin()\n",
    "}"
   ]
  },
  {
   "cell_type": "code",
   "execution_count": null,
   "metadata": {},
   "outputs": [],
   "source": [
    "best_val"
   ]
  },
  {
   "cell_type": "code",
   "execution_count": null,
   "metadata": {},
   "outputs": [],
   "source": [
    "def parse_string(filename: str, patterns: Dict) -> Dict[str, Any]:\n",
    "    entries = []\n",
    "    for name, template in patterns.items():\n",
    "        if template is int or template is float:\n",
    "            template = {int: r\"\\d+\", float: r\"\\d+.\\d+\"}[template]\n",
    "        entries.append(fr\"{name}=(?P<{name}>{template})\")\n",
    "    regex = \"_\".join(entries)\n",
    "    return named_match(pattern=regex, string=filename)\n",
    "\n",
    "CHECKPOINTS = \"/home/ck/experiments/smp/checkpoints/\"\n",
    "reader = get_reader()\n",
    "storage = CheckpointsStorage(CHECKPOINTS)\n",
    "benchmark = storage.fetch_available_checkpoints(\"avg_val_loss\", best_checkpoint_per_date=False)[-1]\n",
    "checkpoint_files, meta_file = benchmark[\"checkpoints\"], benchmark[\"meta\"]\n",
    "\n",
    "sorted_files = [\n",
    "    filename\n",
    "    for filename, _ in \n",
    "    sorted([\n",
    "        (fn, parse_string(fn, {\"epoch\": int})[\"epoch\"]) \n",
    "        for fn in checkpoint_files\n",
    "    ], key=itemgetter(1))\n",
    "]"
   ]
  },
  {
   "cell_type": "code",
   "execution_count": null,
   "metadata": {},
   "outputs": [],
   "source": [
    "best_checkpoints = {metric: sorted_files[index] for metric, index in best_val.items()}"
   ]
  },
  {
   "cell_type": "code",
   "execution_count": null,
   "metadata": {},
   "outputs": [],
   "source": [
    "best_checkpoints"
   ]
  },
  {
   "cell_type": "code",
   "execution_count": null,
   "metadata": {},
   "outputs": [],
   "source": [
    "from zeus.utils import list_files\n",
    "for csv_file in list_files(\"/mnt/fast/data/kidney/outputs\"):\n",
    "    break"
   ]
  },
  {
   "cell_type": "code",
   "execution_count": null,
   "metadata": {},
   "outputs": [],
   "source": [
    "import pandas as pd"
   ]
  },
  {
   "cell_type": "code",
   "execution_count": null,
   "metadata": {},
   "outputs": [],
   "source": [
    "df = pd.read_csv(csv_file).set_index(\"id\")"
   ]
  },
  {
   "cell_type": "code",
   "execution_count": null,
   "metadata": {},
   "outputs": [],
   "source": [
    "reader = get_reader()"
   ]
  },
  {
   "cell_type": "code",
   "execution_count": null,
   "metadata": {},
   "outputs": [],
   "source": [
    "for key in df.index:\n",
    "    sample = reader.fetch_one(key)\n",
    "    # df.loc[key].predicted\n",
    "    break"
   ]
  },
  {
   "cell_type": "code",
   "execution_count": null,
   "metadata": {},
   "outputs": [],
   "source": [
    "sample[\"image\"].shape"
   ]
  },
  {
   "cell_type": "code",
   "execution_count": null,
   "metadata": {},
   "outputs": [],
   "source": [
    "from kidney.utils.mask import rle_decode\n",
    "from kidney.datasets.kaggle import SampleType"
   ]
  },
  {
   "cell_type": "code",
   "execution_count": null,
   "metadata": {},
   "outputs": [],
   "source": [
    "predictions = {}\n",
    "train_keys = reader.get_keys(SampleType.Labeled)\n",
    "for key in train_keys:\n",
    "    sample = reader.fetch_one(key)\n",
    "    h, w = sample[\"image\"].shape[:2]\n",
    "    predicted_mask = rle_decode(df.loc[key].predicted, (h, w))\n",
    "    predictions[key] = {\"image\": sample[\"image\"], \"pred\": predicted_mask, \"gt\": sample[\"mask\"]}\n",
    "    break"
   ]
  },
  {
   "cell_type": "code",
   "execution_count": null,
   "metadata": {},
   "outputs": [],
   "source": [
    "import cv2 as cv\n",
    "import matplotlib.pyplot as plt"
   ]
  },
  {
   "cell_type": "code",
   "execution_count": null,
   "metadata": {},
   "outputs": [],
   "source": [
    "key = \"0486052bb\"\n",
    "size = (2048, 2048)\n",
    "img = cv.resize(predictions[key][\"image\"], size)\n",
    "seg_pred = cv.resize(predictions[key][\"pred\"], size)\n",
    "seg_true = cv.resize(predictions[key][\"gt\"], size)"
   ]
  },
  {
   "cell_type": "code",
   "execution_count": null,
   "metadata": {},
   "outputs": [],
   "source": [
    "plt.figure(figsize=(15, 15))\n",
    "plt.imshow(img)\n",
    "plt.imshow(np.where(seg_true == 1, 1, 0), alpha=0.2)\n",
    "plt.imshow(np.where(seg_pred == 1, 2, 0), alpha=0.2)\n",
    "plt.show()"
   ]
  },
  {
   "cell_type": "code",
   "execution_count": null,
   "metadata": {},
   "outputs": [],
   "source": [
    "# x = samples[\"8242609fa_19584_10759_20608_11783\"]\n",
    "# img = np.asarray(PIL.Image.open(x[\"img\"]))\n",
    "# seg = np.asarray(PIL.Image.open(x[\"seg\"]))\n",
    "# plt.figure(figsize=(10,10))\n",
    "# plt.imshow(img)\n",
    "# plt.imshow(seg, alpha=0.3)\n",
    "# plt.show()"
   ]
  }
 ],
 "metadata": {
  "kernelspec": {
   "display_name": "Kidney (3.7)",
   "language": "python",
   "name": "kidney"
  },
  "language_info": {
   "codemirror_mode": {
    "name": "ipython",
    "version": 3
   },
   "file_extension": ".py",
   "mimetype": "text/x-python",
   "name": "python",
   "nbconvert_exporter": "python",
   "pygments_lexer": "ipython3",
   "version": "3.7.8"
  }
 },
 "nbformat": 4,
 "nbformat_minor": 4
}
