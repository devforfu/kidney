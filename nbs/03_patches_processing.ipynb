{
 "cells": [
  {
   "cell_type": "code",
   "execution_count": null,
   "metadata": {},
   "outputs": [],
   "source": [
    "%reload_ext autoreload\n",
    "%autoreload 2\n",
    "import zeus.notebook_utils.syspath as syspath\n",
    "syspath.add_parent_folder()"
   ]
  },
  {
   "cell_type": "code",
   "execution_count": null,
   "metadata": {},
   "outputs": [],
   "source": [
    "import glob\n",
    "import os\n",
    "from collections import defaultdict\n",
    "from dataclasses import dataclass\n",
    "from os.path import join\n",
    "from pprint import pprint as pp\n",
    "from typing import Dict, List\n",
    "\n",
    "import numpy as np\n",
    "import pandas as pd\n",
    "import PIL.Image\n",
    "import seaborn as sns\n",
    "\n",
    "from zeus.utils.misc import named_match\n",
    "from zeus.plotting.style import notebook_style\n",
    "from zeus.plotting.utils import axes\n",
    "from kidney.utils.plotting import overlay"
   ]
  },
  {
   "cell_type": "code",
   "execution_count": null,
   "metadata": {},
   "outputs": [],
   "source": [
    "sns.reset_orig()\n",
    "_ = notebook_style({'xtick.labelsize': 18, 'ytick.labelsize': 18})"
   ]
  },
  {
   "cell_type": "code",
   "execution_count": null,
   "metadata": {},
   "outputs": [],
   "source": [
    "DATA = '/mnt/fast/data/kidney_patches'"
   ]
  },
  {
   "cell_type": "code",
   "execution_count": null,
   "metadata": {},
   "outputs": [],
   "source": [
    "images_info = defaultdict(dict)\n",
    "\n",
    "for image_type in ('img', 'seg'):\n",
    "    pattern = f'{image_type}\\.(?P<dx>\\d+)\\.(?P<dy>\\d+)\\.(?P<stride>\\d+).png'\n",
    "    for path in glob.glob(f'{DATA}/{image_type}.*.png'):\n",
    "        m = named_match(pattern, path)\n",
    "        dx, dy = m['dx'], m['dy']\n",
    "        identifier = f\"{dx}.{dy}\"\n",
    "        images_info[identifier][\n",
    "            'mask' if image_type == 'seg' else 'image'\n",
    "        ] = path\n",
    "        images_info[identifier]['position'] = dx, dy"
   ]
  },
  {
   "cell_type": "code",
   "execution_count": null,
   "metadata": {},
   "outputs": [],
   "source": [
    "keys = list(images_info.keys())"
   ]
  },
  {
   "cell_type": "code",
   "execution_count": null,
   "metadata": {},
   "outputs": [],
   "source": [
    "for key in keys[:3]:\n",
    "    print(key)\n",
    "    pp(images_info[key])\n",
    "    print()"
   ]
  },
  {
   "cell_type": "code",
   "execution_count": null,
   "metadata": {},
   "outputs": [],
   "source": [
    "for i, ax in enumerate(axes(subplots=(8, 8), figsize=(12, 12)).flat):\n",
    "    info = images_info[keys[i]] \n",
    "    image = np.asarray(PIL.Image.open(info['image']))\n",
    "    mask = np.asarray(PIL.Image.open(info['mask']))\n",
    "    combined = overlay(image, mask)\n",
    "    ax.imshow(combined)\n",
    "    ax.axis('off')\n",
    "    ax.set_title(i)"
   ]
  },
  {
   "cell_type": "code",
   "execution_count": null,
   "metadata": {},
   "outputs": [],
   "source": [
    "blacks = [keys[x] for x in (1, 3, 11, 25, 40, 41, 43, 44, 53)]\n",
    "whites = [keys[x] for x in (2, 5, 9, 13, 15, 19, 22, 26, 28, 29, 30, 33, 36, 38, 42, 45, 46, 48, 57, 59, 62)]\n",
    "strong = [keys[x] for x in (0, 4, 6, 7, 8, 12, 16, 17, 18, 21, 23, 27, 31, 32, 34, 35, 37, 49, 50, 51, 52, 54, 56, 58, 60, 61)]\n",
    "weak = [keys[x] for x in (14, 24, 47)]"
   ]
  },
  {
   "cell_type": "code",
   "execution_count": null,
   "metadata": {},
   "outputs": [],
   "source": [
    "def read_image_as_numpy(path: str) -> np.ndarray:\n",
    "    return np.asarray(PIL.Image.open(path))"
   ]
  },
  {
   "cell_type": "code",
   "execution_count": null,
   "metadata": {},
   "outputs": [],
   "source": [
    "def pixel_histogram(image: np.ndarray):\n",
    "    hist = (\n",
    "        pd.cut(\n",
    "            image.ravel(),\n",
    "            bins=range(0, 256+4, 4),\n",
    "            labels=range(0, 256, 4),\n",
    "            right=False\n",
    "        )\n",
    "        .value_counts()\n",
    "        .rename('count')\n",
    "    )\n",
    "    return hist"
   ]
  },
  {
   "cell_type": "code",
   "execution_count": null,
   "metadata": {},
   "outputs": [],
   "source": [
    "def mean_pixel_histogram_for_keys(meta: Dict, keys: List[str]):\n",
    "    acc = None\n",
    "    for key in keys:\n",
    "        path = meta[key]['image']\n",
    "        image = read_image_as_numpy(path)\n",
    "        hist = pixel_histogram(image)\n",
    "        acc = hist if acc is None else (acc + hist)\n",
    "    acc /= len(keys)\n",
    "    acc = acc.astype(int)\n",
    "    return acc"
   ]
  },
  {
   "cell_type": "code",
   "execution_count": null,
   "metadata": {},
   "outputs": [],
   "source": [
    "def plot_pixel_frequency_diagram(pixel_hist: np.ndarray, title: str = '', threshold: int = 1000, ax=None):\n",
    "    data = (\n",
    "        pixel_hist\n",
    "        .reset_index()\n",
    "        .sort_values(by='count')\n",
    "        .reset_index(drop=True)\n",
    "    )\n",
    "    ax = sns.barplot(\n",
    "        x='index', y='count', \n",
    "        data=data, order=data['index'], \n",
    "        ax=axes(ax=ax, figsize=(11, 6))\n",
    "    )\n",
    "    labels = [t.get_text() for t in ax.get_xticklabels()]\n",
    "    ax.hlines(threshold, 0, len(pixel_hist), linestyles='--')\n",
    "    ax.set_xticklabels(labels, rotation=90)\n",
    "    ax.set_xlabel('Pixel Value')\n",
    "    ax.set_title(title)\n",
    "    return ax"
   ]
  },
  {
   "cell_type": "code",
   "execution_count": null,
   "metadata": {},
   "outputs": [],
   "source": [
    "subplots = axes(subplots=(2, 2), figsize=(16, 12)).flat\n",
    "groups = zip([\n",
    "    ('Black', blacks),\n",
    "    ('White', whites),\n",
    "    ('Weak', weak),\n",
    "    ('Strong', strong)\n",
    "], subplots)\n",
    "threshold = 5_000\n",
    "for (title, keys), ax in groups:\n",
    "    histogram = mean_pixel_histogram_for_keys(images_info, keys)\n",
    "    ax = plot_pixel_frequency_diagram(histogram, title=title, ax=ax, threshold=threshold)"
   ]
  },
  {
   "cell_type": "code",
   "execution_count": null,
   "metadata": {},
   "outputs": [],
   "source": []
  }
 ],
 "metadata": {
  "kernelspec": {
   "display_name": "Kidney (3.7)",
   "language": "python",
   "name": "kidney"
  },
  "language_info": {
   "codemirror_mode": {
    "name": "ipython",
    "version": 3
   },
   "file_extension": ".py",
   "mimetype": "text/x-python",
   "name": "python",
   "nbconvert_exporter": "python",
   "pygments_lexer": "ipython3",
   "version": "3.7.8"
  }
 },
 "nbformat": 4,
 "nbformat_minor": 4
}
