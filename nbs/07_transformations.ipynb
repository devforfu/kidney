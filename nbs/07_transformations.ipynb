{
 "cells": [
  {
   "cell_type": "code",
   "execution_count": null,
   "metadata": {},
   "outputs": [],
   "source": [
    "%reload_ext autoreload\n",
    "%autoreload 2\n",
    "import zeus.notebook_utils.syspath as syspath\n",
    "syspath.add_parent_folder()"
   ]
  },
  {
   "cell_type": "code",
   "execution_count": null,
   "metadata": {},
   "outputs": [],
   "source": [
    "import random\n",
    "import matplotlib.pyplot as plt\n",
    "import numpy as np\n",
    "from kidney.datasets.kaggle import get_reader, SampleType\n",
    "from kidney.datasets.offline import OfflineCroppedDataset, create_data_loaders\n",
    "from kidney.datasets.transformers import create_color_augmentation_transformers\n",
    "from kidney.datasets.utils import read_segmentation_info\n",
    "from kidney.experiments.online import read_boxes\n",
    "from kidney.utils import rle\n",
    "from kidney.utils.mask import rle_decode\n",
    "from kidney.utils.tiff import read_tiff, read_tiff_crop\n",
    "from kidney.utils.plotting import preview_arrays"
   ]
  },
  {
   "cell_type": "code",
   "execution_count": null,
   "metadata": {},
   "outputs": [],
   "source": [
    "trs = create_color_augmentation_transformers(\"img\", \"seg\", image_size=256, debug=True)"
   ]
  },
  {
   "cell_type": "code",
   "execution_count": null,
   "metadata": {},
   "outputs": [],
   "source": [
    "# samples = read_boxes(\"/mnt/fast/data/kidney_boxes_512/\")\n",
    "samples = read_segmentation_info(\"/mnt/fast/data/kidney/images_32_1024\", file_format=\"bbox\")"
   ]
  },
  {
   "cell_type": "code",
   "execution_count": null,
   "metadata": {},
   "outputs": [],
   "source": [
    "reader = get_reader()"
   ]
  },
  {
   "cell_type": "code",
   "execution_count": null,
   "metadata": {},
   "outputs": [],
   "source": [
    "# ds = OnlineCroppingDataset(reader, samples, transform=trs.train)\n",
    "ds = OfflineCroppedDataset(samples, transform=trs.train)"
   ]
  },
  {
   "cell_type": "code",
   "execution_count": null,
   "metadata": {},
   "outputs": [],
   "source": [
    "n, sz = 10, 2\n",
    "f, axes = plt.subplots(n, n, figsize=(n * sz, n * sz))\n",
    "index = random.choice(range(len(ds)))\n",
    "for i in range(n):\n",
    "    for j in range(n):\n",
    "        sample = ds[index]\n",
    "        img = sample[\"img\"].astype(np.uint8)\n",
    "        seg = sample[\"seg\"]\n",
    "        preview_arrays(img, seg, ax=axes[i][j])"
   ]
  },
  {
   "cell_type": "code",
   "execution_count": null,
   "metadata": {},
   "outputs": [],
   "source": [
    "f, axes = plt.subplots(n, n, figsize=(n * sz, n * sz))\n",
    "indicies = random.sample(range(len(ds)), k=n*n)\n",
    "for i in range(n):\n",
    "    for j in range(n):\n",
    "        index = i*n + j\n",
    "        sample = ds[index]\n",
    "        img = sample[\"img\"].astype(np.uint8)\n",
    "        seg = sample[\"seg\"]\n",
    "        preview_arrays(img, seg, ax=axes[i][j])"
   ]
  },
  {
   "cell_type": "code",
   "execution_count": null,
   "metadata": {},
   "outputs": [],
   "source": [
    "trs = create_weak_augmentation_transformers(\"img\", \"seg\", image_size=512)"
   ]
  },
  {
   "cell_type": "code",
   "execution_count": null,
   "metadata": {},
   "outputs": [],
   "source": [
    "loaders = create_data_loaders(reader=reader, transformers=trs, samples=samples, num_workers=0, batch_size=4)"
   ]
  },
  {
   "cell_type": "code",
   "execution_count": null,
   "metadata": {},
   "outputs": [],
   "source": [
    "bs = next(iter(loaders[\"train\"]))"
   ]
  },
  {
   "cell_type": "code",
   "execution_count": null,
   "metadata": {},
   "outputs": [],
   "source": [
    "bs[\"img\"].shape, bs[\"seg\"].shape"
   ]
  }
 ],
 "metadata": {
  "kernelspec": {
   "display_name": "Kidney (3.7)",
   "language": "python",
   "name": "kidney"
  },
  "language_info": {
   "codemirror_mode": {
    "name": "ipython",
    "version": 3
   },
   "file_extension": ".py",
   "mimetype": "text/x-python",
   "name": "python",
   "nbconvert_exporter": "python",
   "pygments_lexer": "ipython3",
   "version": "3.7.8"
  }
 },
 "nbformat": 4,
 "nbformat_minor": 4
}
