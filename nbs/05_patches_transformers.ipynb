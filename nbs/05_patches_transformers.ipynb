{
 "cells": [
  {
   "cell_type": "code",
   "execution_count": null,
   "metadata": {},
   "outputs": [],
   "source": [
    "%reload_ext autoreload\n",
    "%autoreload 2\n",
    "import zeus.notebook_utils.syspath as syspath\n",
    "syspath.add_parent_folder()"
   ]
  },
  {
   "cell_type": "code",
   "execution_count": null,
   "metadata": {},
   "outputs": [],
   "source": [
    "from os.path import dirname\n",
    "\n",
    "from monai import transforms as T\n",
    "from monai.data import Dataset, PILReader\n",
    "\n",
    "from kidney.datasets.segmentation import read_segmentation_data_from_json, create_data_loaders\n",
    "from kidney.datasets.transformers import create_transformers_crop_to_many\n",
    "from kidney.utils.image import random_image_shape"
   ]
  },
  {
   "cell_type": "code",
   "execution_count": null,
   "metadata": {},
   "outputs": [],
   "source": [
    "PATH = \"/mnt/fast/data/kidney_patches_p1024_s512/histograms.json\""
   ]
  },
  {
   "cell_type": "code",
   "execution_count": null,
   "metadata": {},
   "outputs": [],
   "source": [
    "data = read_segmentation_data_from_json(PATH)"
   ]
  },
  {
   "cell_type": "code",
   "execution_count": null,
   "metadata": {},
   "outputs": [],
   "source": [
    "# ds = Dataset(data.train)\n",
    "# x = item = ds[0]\n",
    "# transform = T.Compose([\n",
    "#     T.LoadImaged(reader=PILReader(), keys=keys),\n",
    "#     T.AsChannelFirstd(keys=data.image_key),\n",
    "#     T.AddChanneld(keys=data.mask_key),\n",
    "#     T.ScaleIntensityd(keys=keys),\n",
    "#     T.RandSpatialCropSamplesd(keys=keys, roi_size=512, num_samples=4, random_size=False),\n",
    "#     T.RandRotate90d(keys=keys, prob=0.5),\n",
    "#     T.ToTensord(keys=keys)\n",
    "# ])\n",
    "# x = transform(x)"
   ]
  },
  {
   "cell_type": "code",
   "execution_count": null,
   "metadata": {},
   "outputs": [],
   "source": [
    "transformers = create_transformers_crop_to_many(image_key=data.image_key, \n",
    "                                                mask_key=data.mask_key, \n",
    "                                                image_size=random_image_shape(dirname(PATH)),\n",
    "                                                crop_balanced=False)"
   ]
  },
  {
   "cell_type": "code",
   "execution_count": null,
   "metadata": {},
   "outputs": [],
   "source": [
    "loaders = create_data_loaders(data=data,\n",
    "                              transformers=transformers,\n",
    "                              batch_size=4,\n",
    "                              num_workers=0)"
   ]
  },
  {
   "cell_type": "code",
   "execution_count": null,
   "metadata": {},
   "outputs": [],
   "source": [
    "batch = next(iter(loaders[\"train\"]))"
   ]
  },
  {
   "cell_type": "code",
   "execution_count": null,
   "metadata": {},
   "outputs": [],
   "source": [
    "batch[\"img\"].shape, batch[\"seg\"].shape"
   ]
  },
  {
   "cell_type": "code",
   "execution_count": null,
   "metadata": {},
   "outputs": [],
   "source": []
  }
 ],
 "metadata": {
  "kernelspec": {
   "display_name": "Kidney (3.7)",
   "language": "python",
   "name": "kidney"
  },
  "language_info": {
   "codemirror_mode": {
    "name": "ipython",
    "version": 3
   },
   "file_extension": ".py",
   "mimetype": "text/x-python",
   "name": "python",
   "nbconvert_exporter": "python",
   "pygments_lexer": "ipython3",
   "version": "3.7.8"
  }
 },
 "nbformat": 4,
 "nbformat_minor": 4
}
