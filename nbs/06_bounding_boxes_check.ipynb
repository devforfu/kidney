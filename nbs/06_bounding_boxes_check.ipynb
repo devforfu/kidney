{
 "cells": [
  {
   "cell_type": "code",
   "execution_count": null,
   "metadata": {},
   "outputs": [],
   "source": [
    "%reload_ext autoreload\n",
    "%autoreload 2\n",
    "import zeus.notebook_utils.syspath as syspath\n",
    "syspath.add_parent_folder()"
   ]
  },
  {
   "cell_type": "code",
   "execution_count": null,
   "metadata": {},
   "outputs": [],
   "source": [
    "import random\n",
    "import matplotlib.pyplot as plt\n",
    "from kidney.datasets.kaggle import get_reader, SampleType\n",
    "from kidney.experiments.online import read_boxes\n",
    "from kidney.utils import rle\n",
    "from kidney.utils.mask import rle_decode\n",
    "from kidney.utils.tiff import read_tiff, read_tiff_crop\n",
    "from kidney.utils.plotting import preview_arrays"
   ]
  },
  {
   "cell_type": "code",
   "execution_count": null,
   "metadata": {},
   "outputs": [],
   "source": [
    "reader = get_reader()"
   ]
  },
  {
   "cell_type": "code",
   "execution_count": null,
   "metadata": {},
   "outputs": [],
   "source": [
    "boxes = read_boxes(\"/mnt/fast/data/kidney_boxes_512/\")"
   ]
  },
  {
   "cell_type": "code",
   "execution_count": null,
   "metadata": {},
   "outputs": [],
   "source": [
    "len(boxes)"
   ]
  },
  {
   "cell_type": "code",
   "execution_count": null,
   "metadata": {},
   "outputs": [],
   "source": [
    "n = m = 10\n",
    "sz = 20\n",
    "f, axes = plt.subplots(n, m, figsize=(sz, sz))\n",
    "samples = random.sample(boxes, k=n*m)\n",
    "for i in range(n):\n",
    "    for j in range(m):\n",
    "        bb = samples[i*n + j]\n",
    "        key = bb[\"key\"]\n",
    "        meta = reader.fetch_meta(key)\n",
    "        img = read_tiff_crop(meta[\"tiff\"], bb[\"box\"])\n",
    "        seg = rle_decode(bb[\"rle_encoded\"], (bb[\"height\"], bb[\"width\"]))\n",
    "        preview_arrays(img, seg, ax=axes[i][j], title=f\"{key} ({i*n + j})\")"
   ]
  },
  {
   "cell_type": "code",
   "execution_count": null,
   "metadata": {},
   "outputs": [],
   "source": [
    "# img = read_tiff(meta[\"tiff\"])\n",
    "# seg = rle_decode(meta[\"mask\"], img.shape[:2])\n",
    "# preview_arrays(img, seg)"
   ]
  }
 ],
 "metadata": {
  "kernelspec": {
   "display_name": "Kidney (3.7)",
   "language": "python",
   "name": "kidney"
  },
  "language_info": {
   "codemirror_mode": {
    "name": "ipython",
    "version": 3
   },
   "file_extension": ".py",
   "mimetype": "text/x-python",
   "name": "python",
   "nbconvert_exporter": "python",
   "pygments_lexer": "ipython3",
   "version": "3.7.8"
  }
 },
 "nbformat": 4,
 "nbformat_minor": 4
}
