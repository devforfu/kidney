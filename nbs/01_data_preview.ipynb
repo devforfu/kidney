{
 "cells": [
  {
   "cell_type": "code",
   "execution_count": null,
   "metadata": {},
   "outputs": [],
   "source": [
    "%reload_ext autoreload\n",
    "%autoreload 2\n",
    "\n",
    "import zeus.notebook_utils.syspath as syspath\n",
    "syspath.add_parent_folder()"
   ]
  },
  {
   "cell_type": "code",
   "execution_count": null,
   "metadata": {},
   "outputs": [],
   "source": [
    "import cv2 as cv\n",
    "import matplotlib.pyplot as plt\n",
    "import numpy as np\n",
    "from zeus.plotting.utils import calculate_layout\n",
    "from kidney.utils.plotting import overlay\n",
    "from kidney.datasets.kaggle import get_reader, SampleType"
   ]
  },
  {
   "cell_type": "code",
   "execution_count": null,
   "metadata": {},
   "outputs": [],
   "source": [
    "reader = get_reader()"
   ]
  },
  {
   "cell_type": "code",
   "execution_count": null,
   "metadata": {},
   "outputs": [],
   "source": [
    "keys = reader.get_keys()\n",
    "keys"
   ]
  },
  {
   "cell_type": "code",
   "execution_count": null,
   "metadata": {},
   "outputs": [],
   "source": [
    "n, m = calculate_layout(len(keys), n_cols=3)\n",
    "\n",
    "f, axes = plt.subplots(n, m, figsize=(m * 8, n * 8))\n",
    "\n",
    "for i, ax in enumerate(axes.flat):\n",
    "    if i >= len(keys):\n",
    "        ax.set_visible(False)\n",
    "    else:\n",
    "        key = keys[i]\n",
    "        sample = reader.fetch_one(key)\n",
    "        if 'mask' in sample:\n",
    "            gray = cv.cvtColor(sample['image'], cv.COLOR_RGB2GRAY)\n",
    "            gray = np.expand_dims(gray, -1).repeat(3, axis=-1)\n",
    "            image = overlay(gray, sample['mask'], alpha=1)\n",
    "        else:\n",
    "            image = sample['image']\n",
    "        ax.imshow(image)\n",
    "        ax.axis('off')\n",
    "        ax.set_title(key, fontsize=20)"
   ]
  },
  {
   "cell_type": "code",
   "execution_count": null,
   "metadata": {},
   "outputs": [],
   "source": []
  }
 ],
 "metadata": {
  "kernelspec": {
   "display_name": "Kidney (3.7)",
   "language": "python",
   "name": "kidney"
  },
  "language_info": {
   "codemirror_mode": {
    "name": "ipython",
    "version": 3
   },
   "file_extension": ".py",
   "mimetype": "text/x-python",
   "name": "python",
   "nbconvert_exporter": "python",
   "pygments_lexer": "ipython3",
   "version": "3.7.8"
  }
 },
 "nbformat": 4,
 "nbformat_minor": 4
}
