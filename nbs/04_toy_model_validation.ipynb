{
 "cells": [
  {
   "cell_type": "code",
   "execution_count": null,
   "metadata": {},
   "outputs": [],
   "source": [
    "%reload_ext autoreload\n",
    "%autoreload 2\n",
    "import zeus.notebook_utils.syspath as syspath\n",
    "syspath.add_parent_folder()"
   ]
  },
  {
   "cell_type": "code",
   "execution_count": null,
   "metadata": {},
   "outputs": [],
   "source": [
    "from multiprocessing import cpu_count\n",
    "\n",
    "import numpy as np\n",
    "import matplotlib.pyplot as plt\n",
    "from zeus.utils import home\n",
    "from monai.inferers import sliding_window_inference\n",
    "\n",
    "from kidney.datasets.toy import create_data_loaders\n",
    "from kidney.experiments.toy import ToyExperiment\n",
    "from kidney.utils.checkpoints import CheckpointsStorage\n",
    "from kidney.utils.image import overlay"
   ]
  },
  {
   "cell_type": "code",
   "execution_count": null,
   "metadata": {},
   "outputs": [],
   "source": [
    "toy, checkpoint = CheckpointsStorage.create(\n",
    "    ToyExperiment, home(\"experiments/toy/checkpoints\"), \"avg_val_loss\"\n",
    ")"
   ]
  },
  {
   "cell_type": "code",
   "execution_count": null,
   "metadata": {},
   "outputs": [],
   "source": [
    "info = checkpoint.meta\n",
    "loaders = create_data_loaders(info['data'], info['transformers'], num_workers=cpu_count())\n",
    "batch = next(iter(loaders['valid']))"
   ]
  },
  {
   "cell_type": "code",
   "execution_count": null,
   "metadata": {},
   "outputs": [],
   "source": [
    "roi_size = 96, 96\n",
    "sw_batch_size = 4\n",
    "img = batch[\"img\"]\n",
    "seg = batch[\"seg\"]\n",
    "out = sliding_window_inference(img, roi_size, sw_batch_size, toy.model)\n",
    "mask = info['transformers'].post(outputs)\n",
    "img, seg, mask = [t.squeeze().detach().numpy() for t in (img, seg, mask)]\n",
    "img = np.expand_dims(img, -1)"
   ]
  },
  {
   "cell_type": "code",
   "execution_count": null,
   "metadata": {},
   "outputs": [],
   "source": [
    "import PIL.Image"
   ]
  },
  {
   "cell_type": "code",
   "execution_count": null,
   "metadata": {},
   "outputs": [],
   "source": [
    "raw = PIL.Image.open(batch['img_meta_dict']['filename_or_obj'][0])"
   ]
  },
  {
   "cell_type": "code",
   "execution_count": null,
   "metadata": {},
   "outputs": [],
   "source": [
    "f, axes = plt.subplots(1, 3)\n",
    "axes[0].imshow(raw, cmap='gray')\n",
    "axes[1].imshow(seg, cmap='gray')\n",
    "axes[2].imshow(mask, cmap='gray')"
   ]
  },
  {
   "cell_type": "code",
   "execution_count": null,
   "metadata": {},
   "outputs": [],
   "source": [
    "# plt.imshow(overlay(img, mask, resize=None).astype(np.uint8))"
   ]
  }
 ],
 "metadata": {
  "kernelspec": {
   "display_name": "Kidney (3.7)",
   "language": "python",
   "name": "kidney"
  },
  "language_info": {
   "codemirror_mode": {
    "name": "ipython",
    "version": 3
   },
   "file_extension": ".py",
   "mimetype": "text/x-python",
   "name": "python",
   "nbconvert_exporter": "python",
   "pygments_lexer": "ipython3",
   "version": "3.7.8"
  }
 },
 "nbformat": 4,
 "nbformat_minor": 4
}
