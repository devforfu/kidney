{
 "cells": [
  {
   "cell_type": "code",
   "execution_count": null,
   "metadata": {},
   "outputs": [],
   "source": [
    "%reload_ext autoreload\n",
    "%autoreload 2\n",
    "%matplotlib inline\n",
    "import zeus.notebook_utils.syspath as syspath\n",
    "syspath.add_parent_folder()"
   ]
  },
  {
   "cell_type": "code",
   "execution_count": null,
   "metadata": {},
   "outputs": [],
   "source": [
    "import cv2 as cv\n",
    "import numpy as np\n",
    "import pandas as pd\n",
    "from kidney.datasets.kaggle import get_reader, SampleType\n",
    "from kidney.utils.mask import rle_decode"
   ]
  },
  {
   "cell_type": "code",
   "execution_count": null,
   "metadata": {},
   "outputs": [],
   "source": [
    "reader = get_reader()"
   ]
  },
  {
   "cell_type": "code",
   "execution_count": null,
   "metadata": {},
   "outputs": [],
   "source": [
    "test_keys = reader.get_keys(SampleType.Unlabeled)"
   ]
  },
  {
   "cell_type": "code",
   "execution_count": null,
   "metadata": {},
   "outputs": [],
   "source": [
    "test_keys"
   ]
  },
  {
   "cell_type": "code",
   "execution_count": null,
   "metadata": {},
   "outputs": [],
   "source": [
    "train_keys = reader.get_keys(SampleType.Labeled)"
   ]
  },
  {
   "cell_type": "code",
   "execution_count": null,
   "metadata": {},
   "outputs": [],
   "source": [
    "train_keys"
   ]
  },
  {
   "cell_type": "code",
   "execution_count": null,
   "metadata": {},
   "outputs": [],
   "source": [
    "predicted_masks = pd.read_csv(\"/mnt/fast/data/kidney/outputs/best_f1_score.csv\").set_index(\"id\").to_dict(\"index\")"
   ]
  },
  {
   "cell_type": "code",
   "execution_count": null,
   "metadata": {},
   "outputs": [],
   "source": [
    "samples = {}\n",
    "for i, key in enumerate(test_keys, 1):\n",
    "    print(f\"[{i}/{len(test_keys)}] {key}\")\n",
    "    sample = reader.fetch_one(key)\n",
    "    h, w = sample[\"image\"].shape[:2]\n",
    "    encoded_mask = predicted_masks[key][\"predicted\"]\n",
    "    decoded_mask = rle_decode(encoded_mask, (h, w))\n",
    "    samples[key] = {\"image\": sample[\"image\"], \"prediction\": decoded_mask}"
   ]
  },
  {
   "cell_type": "code",
   "execution_count": null,
   "metadata": {},
   "outputs": [],
   "source": [
    "samples.keys()"
   ]
  },
  {
   "cell_type": "code",
   "execution_count": null,
   "metadata": {},
   "outputs": [],
   "source": [
    "def mask_to_contours(mask: np.ndarray, take_nth: int):\n",
    "    cnts, hierarchy = cv.findContours(mask, cv.RETR_TREE, cv.CHAIN_APPROX_SIMPLE)\n",
    "    cnts = [cnt.squeeze(1)[::take_nth].tolist() for cnt in cnts]\n",
    "    cnts = [cnt + [cnt[0]] for cnt in cnts]\n",
    "    return cnts"
   ]
  },
  {
   "cell_type": "code",
   "execution_count": null,
   "metadata": {},
   "outputs": [],
   "source": [
    "!ls /mnt/fast/data/supervisor/contours"
   ]
  },
  {
   "cell_type": "code",
   "execution_count": null,
   "metadata": {},
   "outputs": [],
   "source": [
    "def make_id(n: int):\n",
    "    import random\n",
    "    domain = \"ABCDEFGHIJKLMNOPQRSTUVWXYZabcdefghijklmnopqrstuvwxyz0123456789\"\n",
    "    return \"\".join([random.choice(domain) for i in range(n)])"
   ]
  },
  {
   "cell_type": "code",
   "execution_count": null,
   "metadata": {},
   "outputs": [],
   "source": [
    "# import json, os\n",
    "# output_dir = \"/mnt/fast/data/supervisor/contours\"\n",
    "# # os.makedirs(output_dir, exist_ok=True)\n",
    "# for key, sample in samples.items():\n",
    "#     contours = mask_to_contours(sample[\"prediction\"], take_nth=5)\n",
    "#     contours = [{\"id\": make_id(20), \"points\": contour} for contour in contours]\n",
    "#     with open(f\"{output_dir}/{key}.json\", \"w\") as fp:\n",
    "#         json.dump(contours, fp)"
   ]
  },
  {
   "cell_type": "code",
   "execution_count": null,
   "metadata": {},
   "outputs": [],
   "source": [
    "import json, os\n",
    "input_dir = \"/mnt/fast/data/supervisor/contours\"\n",
    "for fn in os.listdir(input_dir):\n",
    "    for key in train_keys:\n",
    "        if not fn.startswith(key):\n",
    "            continue\n",
    "        print(f\"matched: {key}\")\n",
    "        path = os.path.join(input_dir, fn)\n",
    "        with open(path, \"r\") as fp:\n",
    "            contours = json.load(fp)\n",
    "        contours = [{\"id\": make_id(20), \"points\": contour} for contour in contours]\n",
    "        with open(path, \"w\") as fp:\n",
    "            json.dump(contours, fp)\n",
    "        break"
   ]
  },
  {
   "cell_type": "code",
   "execution_count": null,
   "metadata": {},
   "outputs": [],
   "source": [
    "# contours, hierarchy = cv.findContours(mask, cv.RETR_TREE, cv.CHAIN_APPROX_SIMPLE)\n",
    "\n",
    "# cnt = contours[0].squeeze()\n",
    "# xs, ys = cnt[:, 0], cnt[:, 1]\n",
    "# x_min, x_max = xs.min(), xs.max()\n",
    "# y_min, y_max = ys.min(), ys.max()\n",
    "# margin = 10\n",
    "# x_min -= margin\n",
    "# x_max += margin\n",
    "# y_min -= margin\n",
    "# y_max += margin\n",
    "# cell = sample[\"image\"][y_min:y_max, x_min:x_max]\n",
    "\n",
    "# cnt[:, 0] -= x_min\n",
    "# cnt[:, 1] -= y_min\n",
    "# plt.imshow(sample[\"mask\"][y_min:y_max, x_min:x_max], alpha=0.4)\n",
    "# plt.imshow(cv.drawContours(cv.UMat(cell), [cnt], 0, (255, 0, 0), 3).get(), alpha=0.4)"
   ]
  }
 ],
 "metadata": {
  "kernelspec": {
   "display_name": "Kidney (3.7)",
   "language": "python",
   "name": "kidney"
  },
  "language_info": {
   "codemirror_mode": {
    "name": "ipython",
    "version": 3
   },
   "file_extension": ".py",
   "mimetype": "text/x-python",
   "name": "python",
   "nbconvert_exporter": "python",
   "pygments_lexer": "ipython3",
   "version": "3.7.8"
  }
 },
 "nbformat": 4,
 "nbformat_minor": 4
}
