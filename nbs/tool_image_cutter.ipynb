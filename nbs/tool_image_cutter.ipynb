{
 "cells": [
  {
   "cell_type": "code",
   "execution_count": null,
   "metadata": {},
   "outputs": [],
   "source": [
    "%reload_ext autoreload\n",
    "%autoreload 2\n",
    "%matplotlib inline\n",
    "import zeus.notebook_utils.syspath as syspath\n",
    "syspath.add_parent_folder()"
   ]
  },
  {
   "cell_type": "code",
   "execution_count": null,
   "metadata": {},
   "outputs": [],
   "source": [
    "import os\n",
    "import matplotlib.pyplot as plt\n",
    "import PIL.Image\n",
    "from zeus.plotting.utils import axes\n",
    "from kidney.datasets.kaggle import get_reader, SampleType"
   ]
  },
  {
   "cell_type": "code",
   "execution_count": null,
   "metadata": {},
   "outputs": [],
   "source": [
    "reader = get_reader()"
   ]
  },
  {
   "cell_type": "code",
   "execution_count": null,
   "metadata": {},
   "outputs": [],
   "source": [
    "size = 256\n",
    "output_dir = \"/mnt/fast/data/tiles\"\n",
    "keys = reader.get_keys(SampleType.Unlabeled)\n",
    "\n",
    "os.makedirs(output_dir, exist_ok=True)\n",
    "\n",
    "image_shapes = []\n",
    "\n",
    "for key in keys:\n",
    "    print(\"Processing key:\", key)\n",
    "    sample = reader.fetch_one(key)\n",
    "    image = sample[\"image\"]\n",
    "    h, w, _ = image.shape\n",
    "\n",
    "    for y_off in range(0, h - size, size):\n",
    "        for x_off in range(0, w - size, size):\n",
    "            \n",
    "            x1, y1 = x_off, y_off\n",
    "            x2, y2 = x_off + size, y_off + size\n",
    "            name = f\"{key}.{x1}.{y1}.{x2}.{y2}.png\"\n",
    "            # print(\".. creating:\", name)\n",
    "            \n",
    "            cut = image[y_off:y_off+size, x_off:x_off+size] \n",
    "            pil_image = PIL.Image.fromarray(cut)\n",
    "            pil_image.save(os.path.join(output_dir, name), format=\"png\")\n",
    "            \n",
    "    image_shapes.append({\n",
    "        \"id\": key, \n",
    "        \"height\": h,\n",
    "        \"width\": w, \n",
    "        \"tile_size\": size\n",
    "    })"
   ]
  },
  {
   "cell_type": "code",
   "execution_count": null,
   "metadata": {},
   "outputs": [],
   "source": [
    "image_shapes"
   ]
  },
  {
   "cell_type": "code",
   "execution_count": null,
   "metadata": {},
   "outputs": [],
   "source": [
    "import pandas as pd\n",
    "df = pd.DataFrame(image_shapes)\n",
    "df.to_csv(\"/mnt/fast/data/tiles/image_shapes.csv\", index=False)"
   ]
  },
  {
   "cell_type": "code",
   "execution_count": null,
   "metadata": {},
   "outputs": [],
   "source": [
    "# !ls /mnt/fast/data/tiles"
   ]
  },
  {
   "cell_type": "code",
   "execution_count": null,
   "metadata": {},
   "outputs": [],
   "source": [
    "# keys = reader.get_keys(SampleType.Unlabeled)\n",
    "# for key in keys:\n",
    "#     sample = reader.fetch_one(key)\n",
    "#     break\n",
    "# size = 1024\n",
    "# cuts = []\n",
    "# for y_off in range(0, w, size):\n",
    "#     cuts.append([\n",
    "#         image[y_off:y_off+size, x_off:x_off+size] \n",
    "#         for x_off in range(0, h, size)\n",
    "#     ])"
   ]
  },
  {
   "cell_type": "code",
   "execution_count": null,
   "metadata": {},
   "outputs": [],
   "source": [
    "n, m = 12, 12\n",
    "size = 20\n",
    "step = 2048\n",
    "canvas = axes(subplots=(n, m), figsize=(size, size))\n",
    "for row in range(n):\n",
    "    for col in range(m):\n",
    "        # cut = cuts[row][col]\n",
    "        cut = image[\n",
    "            row*step:(row+1)*step, \n",
    "            col*step:(col+1)*step\n",
    "        ]\n",
    "        ax = canvas[row][col]\n",
    "        ax.imshow(cut)\n",
    "        ax.axis(\"off\")"
   ]
  },
  {
   "cell_type": "code",
   "execution_count": null,
   "metadata": {},
   "outputs": [],
   "source": []
  }
 ],
 "metadata": {
  "kernelspec": {
   "display_name": "Kidney (3.7)",
   "language": "python",
   "name": "kidney"
  },
  "language_info": {
   "codemirror_mode": {
    "name": "ipython",
    "version": 3
   },
   "file_extension": ".py",
   "mimetype": "text/x-python",
   "name": "python",
   "nbconvert_exporter": "python",
   "pygments_lexer": "ipython3",
   "version": "3.7.8"
  }
 },
 "nbformat": 4,
 "nbformat_minor": 4
}
