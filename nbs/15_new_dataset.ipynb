{
 "cells": [
  {
   "cell_type": "code",
   "execution_count": null,
   "metadata": {},
   "outputs": [],
   "source": [
    "%reload_ext autoreload\n",
    "%autoreload 2\n",
    "%matplotlib inline\n",
    "import zeus.notebook_utils.syspath as syspath\n",
    "syspath.add_parent_folder()"
   ]
  },
  {
   "cell_type": "code",
   "execution_count": null,
   "metadata": {},
   "outputs": [],
   "source": [
    "import random\n",
    "from collections import defaultdict\n",
    "from pathlib import Path\n",
    "from typing import Dict\n",
    "import matplotlib.pyplot as plt\n",
    "import numpy as np\n",
    "import pandas as pd\n",
    "import PIL.Image\n",
    "import rasterio\n",
    "from kidney.datasets.kaggle import get_reader, SampleType, DatasetReader\n",
    "from zeus.utils import list_files\n",
    "from zeus.plotting.utils import axes, calculate_layout"
   ]
  },
  {
   "cell_type": "code",
   "execution_count": null,
   "metadata": {},
   "outputs": [],
   "source": [
    "def print_dataset_info(reader: DatasetReader, sample_type: SampleType):\n",
    "    reader = get_reader()\n",
    "    train_keys = reader.get_keys(sample_type)\n",
    "    identity = rasterio.Affine(1, 0, 0, 0, 1, 0)\n",
    "    for key in train_keys:\n",
    "        meta = reader.fetch_meta(key)\n",
    "        with rasterio.open(meta[\"tiff\"], transform=identity) as dataset:\n",
    "            height, width = shape = dataset.shape\n",
    "            has_mask = \"[trn]\" if meta[\"mask\"] is not None else \"[tst]\"\n",
    "            print(has_mask, key, height, width, dataset.indexes)"
   ]
  },
  {
   "cell_type": "code",
   "execution_count": null,
   "metadata": {},
   "outputs": [],
   "source": [
    "print_dataset_info(get_reader(), SampleType.All)"
   ]
  },
  {
   "cell_type": "code",
   "execution_count": null,
   "metadata": {},
   "outputs": [],
   "source": [
    "PREPARED_DIR = \"/mnt/fast/data/kidney/images_32_1024\""
   ]
  },
  {
   "cell_type": "code",
   "execution_count": null,
   "metadata": {},
   "outputs": [],
   "source": [
    "def read_png_images(folder: str):\n",
    "    samples = defaultdict(dict)\n",
    "    for fn in list_files(folder):\n",
    "        image_type, image_id = Path(fn).stem.split(\".\")\n",
    "        samples[image_id][image_type] = fn\n",
    "        if image_type == \"img\":\n",
    "            samples[image_id][\"masked\"] = False\n",
    "            samples[image_id][\"colored\"] = colored_image(fn)\n",
    "        if image_type == \"seg\":\n",
    "            samples[image_id][\"masked\"] = True\n",
    "            samples[image_id][\"mask_image_ratio\"] = non_zero_pixels_ratio(fn)\n",
    "    return samples\n",
    "        \n",
    "def colored_image(filename: str) -> bool:\n",
    "    image = PIL.Image.open(filename)\n",
    "    return image.mode == \"RGB\"\n",
    "\n",
    "def non_zero_pixels_ratio(filename: str) -> float:\n",
    "    arr = np.asarray(PIL.Image.open(filename))\n",
    "    return np.where(arr == 255, 1, 0).mean()"
   ]
  },
  {
   "cell_type": "code",
   "execution_count": null,
   "metadata": {},
   "outputs": [],
   "source": [
    "images = read_png_images(PREPARED_DIR)"
   ]
  },
  {
   "cell_type": "code",
   "execution_count": null,
   "metadata": {},
   "outputs": [],
   "source": [
    "def images_summary(images: Dict) -> pd.DataFrame:\n",
    "    return pd.DataFrame([\n",
    "        {\n",
    "            \"image_id\": image_id,\n",
    "            \"masked\": info[\"masked\"],\n",
    "            \"colored\": info[\"colored\"],\n",
    "            \"ratio\": info[\"mask_image_ratio\"] if info[\"masked\"] else np.nan,\n",
    "        }\n",
    "        for image_id, info in images.items()\n",
    "    ])  "
   ]
  },
  {
   "cell_type": "code",
   "execution_count": null,
   "metadata": {},
   "outputs": [],
   "source": [
    "info = images_summary(images)"
   ]
  },
  {
   "cell_type": "code",
   "execution_count": null,
   "metadata": {},
   "outputs": [],
   "source": [
    "colored = info.query(\"colored\")\n",
    "colored_no_mask = colored.query(\"ratio == 0\")\n",
    "colored_small_mask = colored.query(\"ratio > 0 and ratio <= 0.05\")\n",
    "colored_medium_mask = colored.query(\"ratio > 0.05 and ratio <= 0.20\")\n",
    "colored_large_mask = colored.query(\"ratio > 0.20\")\n",
    "\n",
    "grayscale = info.query(\"not colored\")\n",
    "grayscale_no_mask = grayscale.query(\"ratio == 0\")\n",
    "grayscale_small_mask = grayscale.query(\"ratio > 0 and ratio <= 0.05\")\n",
    "grayscale_medium_mask = grayscale.query(\"ratio > 0.05 and ratio <= 0.20\")\n",
    "grayscale_large_mask = grayscale.query(\"ratio > 0.20\")\n",
    "\n",
    "image_groups = {\n",
    "    \"colored\": {\n",
    "        \"empty\": colored_no_mask.image_id.tolist(),\n",
    "        \"small\": colored_small_mask.image_id.tolist(),\n",
    "        \"medium\": colored_medium_mask.image_id.tolist(),\n",
    "        \"large\": colored_large_mask.image_id.tolist(),\n",
    "    },\n",
    "    \"grayscale\": {\n",
    "        \"empty\": grayscale_no_mask.image_id.tolist(),\n",
    "        \"small\": grayscale_small_mask.image_id.tolist(),\n",
    "        \"medium\": grayscale_medium_mask.image_id.tolist(),\n",
    "        \"large\": grayscale_medium_mask.image_id.tolist(),\n",
    "    }\n",
    "}"
   ]
  },
  {
   "cell_type": "code",
   "execution_count": null,
   "metadata": {},
   "outputs": [],
   "source": [
    "info.query(\"colored\").ratio.plot.hist(bins=20)"
   ]
  },
  {
   "cell_type": "code",
   "execution_count": null,
   "metadata": {},
   "outputs": [],
   "source": [
    "info.query(\"not colored\").ratio.plot.hist(bins=20)"
   ]
  },
  {
   "cell_type": "code",
   "execution_count": null,
   "metadata": {},
   "outputs": [],
   "source": [
    "n = 7\n",
    "for color, mask_groups in image_groups.items():\n",
    "    for mask_size, image_ids in mask_groups.items():\n",
    "        keys = random.sample(image_ids, k=n*n)\n",
    "        canvas = axes(subplots=(n, n), figsize=(20, 20))\n",
    "        for key, ax in zip(keys, canvas.flat):\n",
    "            x = images[key]\n",
    "            img = np.asarray(PIL.Image.open(x[\"img\"]))\n",
    "            seg = np.asarray(PIL.Image.open(x[\"seg\"]))\n",
    "            grayscale = img.ndim == 2\n",
    "            ax.imshow(img, cmap=\"gray\" if color == \"grayscale\" else None)\n",
    "            ax.imshow(seg, alpha=0.3)\n",
    "            ax.axis(False)\n",
    "            # ax.set_title(\"grayscale\" if grayscale else \"colored\")\n",
    "        plt.gcf().suptitle(f\"{color} ({mask_size})\")"
   ]
  },
  {
   "cell_type": "code",
   "execution_count": null,
   "metadata": {},
   "outputs": [],
   "source": [
    "# x = samples[\"8242609fa_19584_10759_20608_11783\"]\n",
    "# img = np.asarray(PIL.Image.open(x[\"img\"]))\n",
    "# seg = np.asarray(PIL.Image.open(x[\"seg\"]))\n",
    "# plt.figure(figsize=(10,10))\n",
    "# plt.imshow(img)\n",
    "# plt.imshow(seg, alpha=0.3)\n",
    "# plt.show()"
   ]
  },
  {
   "cell_type": "code",
   "execution_count": null,
   "metadata": {},
   "outputs": [],
   "source": [
    "# n = 7\n",
    "# keys = random.sample(samples.keys(), k=n*n)\n",
    "# canvas = axes(subplots=(n, n), figsize=(20, 20))\n",
    "# for key, ax in zip(keys, canvas.flat):\n",
    "#     x = samples[key]\n",
    "#     img = np.asarray(PIL.Image.open(x[\"img\"]))\n",
    "#     seg = np.asarray(PIL.Image.open(x[\"seg\"]))\n",
    "#     grayscale = img.ndim == 2\n",
    "#     ax.imshow(img, cmap=\"gray\" if grayscale else None)\n",
    "#     ax.imshow(seg, alpha=0.3)\n",
    "#     ax.axis(False)\n",
    "#     ax.set_title(\"grayscale\" if grayscale else \"colored\")"
   ]
  }
 ],
 "metadata": {
  "kernelspec": {
   "display_name": "Kidney (3.7)",
   "language": "python",
   "name": "kidney"
  },
  "language_info": {
   "codemirror_mode": {
    "name": "ipython",
    "version": 3
   },
   "file_extension": ".py",
   "mimetype": "text/x-python",
   "name": "python",
   "nbconvert_exporter": "python",
   "pygments_lexer": "ipython3",
   "version": "3.7.8"
  }
 },
 "nbformat": 4,
 "nbformat_minor": 4
}
