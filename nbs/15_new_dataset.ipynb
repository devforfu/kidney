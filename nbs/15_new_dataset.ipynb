{
 "cells": [
  {
   "cell_type": "code",
   "execution_count": null,
   "metadata": {},
   "outputs": [],
   "source": [
    "%reload_ext autoreload\n",
    "%autoreload 2\n",
    "%matplotlib inline\n",
    "import zeus.notebook_utils.syspath as syspath\n",
    "syspath.add_parent_folder()"
   ]
  },
  {
   "cell_type": "code",
   "execution_count": null,
   "metadata": {},
   "outputs": [],
   "source": [
    "import random\n",
    "from collections import defaultdict\n",
    "from pathlib import Path\n",
    "import matplotlib.pyplot as plt\n",
    "import numpy as np\n",
    "import PIL.Image\n",
    "import rasterio\n",
    "from kidney.datasets.kaggle import get_reader, SampleType\n",
    "from zeus.utils import list_files\n",
    "from zeus.plotting.utils import axes, calculate_layout"
   ]
  },
  {
   "cell_type": "code",
   "execution_count": null,
   "metadata": {},
   "outputs": [],
   "source": [
    "reader = get_reader()"
   ]
  },
  {
   "cell_type": "code",
   "execution_count": null,
   "metadata": {},
   "outputs": [],
   "source": [
    "train_keys = reader.get_keys(SampleType.Labeled)"
   ]
  },
  {
   "cell_type": "code",
   "execution_count": null,
   "metadata": {},
   "outputs": [],
   "source": [
    "identity = rasterio.Affine(1, 0, 0, 0, 1, 0)"
   ]
  },
  {
   "cell_type": "code",
   "execution_count": null,
   "metadata": {},
   "outputs": [],
   "source": [
    "for key in train_keys:\n",
    "    meta = reader.fetch_meta(key)\n",
    "    with rasterio.open(meta[\"tiff\"], transform=identity) as dataset:\n",
    "        height, width = shape = dataset.shape\n",
    "        print(height, width, dataset.indexes)"
   ]
  },
  {
   "cell_type": "code",
   "execution_count": null,
   "metadata": {},
   "outputs": [],
   "source": [
    "samples = defaultdict(dict)\n",
    "for fn in list_files(\"/mnt/fast/data/kidney/images_32_1024\"):\n",
    "    image_type, image_id = Path(fn).stem.split(\".\")\n",
    "    samples[image_id][image_type] = fn"
   ]
  },
  {
   "cell_type": "code",
   "execution_count": null,
   "metadata": {},
   "outputs": [],
   "source": [
    "# x = samples[\"8242609fa_19584_10759_20608_11783\"]\n",
    "# img = np.asarray(PIL.Image.open(x[\"img\"]))\n",
    "# seg = np.asarray(PIL.Image.open(x[\"seg\"]))\n",
    "# plt.figure(figsize=(10,10))\n",
    "# plt.imshow(img)\n",
    "# plt.imshow(seg, alpha=0.3)\n",
    "# plt.show()"
   ]
  },
  {
   "cell_type": "code",
   "execution_count": null,
   "metadata": {},
   "outputs": [],
   "source": [
    "n = 7\n",
    "keys = random.sample(samples.keys(), k=n*n)\n",
    "canvas = axes(subplots=(n, n), figsize=(20, 20))\n",
    "for key, ax in zip(keys, canvas.flat):\n",
    "    x = samples[key]\n",
    "    img = np.asarray(PIL.Image.open(x[\"img\"]))\n",
    "    seg = np.asarray(PIL.Image.open(x[\"seg\"]))\n",
    "    grayscale = img.ndim == 2\n",
    "    ax.imshow(img, cmap=\"gray\" if grayscale else None)\n",
    "    ax.imshow(seg, alpha=0.3)\n",
    "    ax.axis(False)\n",
    "    ax.set_title(\"grayscale\" if grayscale else \"colored\")"
   ]
  },
  {
   "cell_type": "code",
   "execution_count": null,
   "metadata": {},
   "outputs": [],
   "source": []
  }
 ],
 "metadata": {
  "kernelspec": {
   "display_name": "Kidney (3.7)",
   "language": "python",
   "name": "kidney"
  },
  "language_info": {
   "codemirror_mode": {
    "name": "ipython",
    "version": 3
   },
   "file_extension": ".py",
   "mimetype": "text/x-python",
   "name": "python",
   "nbconvert_exporter": "python",
   "pygments_lexer": "ipython3",
   "version": "3.7.8"
  }
 },
 "nbformat": 4,
 "nbformat_minor": 4
}
