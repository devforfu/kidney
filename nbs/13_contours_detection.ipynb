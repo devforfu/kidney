{
 "cells": [
  {
   "cell_type": "code",
   "execution_count": null,
   "metadata": {},
   "outputs": [],
   "source": [
    "%reload_ext autoreload\n",
    "%autoreload 2\n",
    "%matplotlib inline\n",
    "import zeus.notebook_utils.syspath as syspath\n",
    "syspath.add_parent_folder()"
   ]
  },
  {
   "cell_type": "code",
   "execution_count": null,
   "metadata": {},
   "outputs": [],
   "source": [
    "import os\n",
    "import random\n",
    "\n",
    "import cv2 as cv\n",
    "import matplotlib.pyplot as plt\n",
    "import numpy as np\n",
    "import PIL.Image\n",
    "from zeus.plotting.utils import axes\n",
    "\n",
    "from kidney.datasets.kaggle import get_reader, SampleType\n",
    "from kidney.datasets.utils import read_segmentation_info\n",
    "from kidney.tools.cutter import pad_sample, cut_sample\n",
    "from kidney.utils.mask import rle_decode"
   ]
  },
  {
   "cell_type": "code",
   "execution_count": null,
   "metadata": {},
   "outputs": [],
   "source": [
    "reader = get_reader()"
   ]
  },
  {
   "cell_type": "code",
   "execution_count": null,
   "metadata": {},
   "outputs": [],
   "source": [
    "key, *_ = reader.get_keys(SampleType.Labeled)"
   ]
  },
  {
   "cell_type": "code",
   "execution_count": null,
   "metadata": {},
   "outputs": [],
   "source": [
    "sample = reader.fetch_one(key)"
   ]
  },
  {
   "cell_type": "code",
   "execution_count": null,
   "metadata": {},
   "outputs": [],
   "source": [
    "sample[\"mask\"].shape"
   ]
  },
  {
   "cell_type": "code",
   "execution_count": null,
   "metadata": {},
   "outputs": [],
   "source": [
    "plt.imshow(sample[\"mask\"])"
   ]
  },
  {
   "cell_type": "code",
   "execution_count": null,
   "metadata": {},
   "outputs": [],
   "source": [
    "mask = sample[\"mask\"] * 255"
   ]
  },
  {
   "cell_type": "code",
   "execution_count": null,
   "metadata": {},
   "outputs": [],
   "source": [
    "len(contours)"
   ]
  },
  {
   "cell_type": "code",
   "execution_count": null,
   "metadata": {},
   "outputs": [],
   "source": [
    "contours, hierarchy = cv.findContours(mask, cv.RETR_TREE, cv.CHAIN_APPROX_SIMPLE)\n",
    "\n",
    "cnt = contours[0].squeeze()\n",
    "xs, ys = cnt[:, 0], cnt[:, 1]\n",
    "x_min, x_max = xs.min(), xs.max()\n",
    "y_min, y_max = ys.min(), ys.max()\n",
    "margin = 10\n",
    "x_min -= margin\n",
    "x_max += margin\n",
    "y_min -= margin\n",
    "y_max += margin\n",
    "cell = sample[\"image\"][y_min:y_max, x_min:x_max]\n",
    "\n",
    "cnt[:, 0] -= x_min\n",
    "cnt[:, 1] -= y_min\n",
    "plt.imshow(sample[\"mask\"][y_min:y_max, x_min:x_max], alpha=0.4)\n",
    "plt.imshow(cv.drawContours(cv.UMat(cell), [cnt], 0, (255, 0, 0), 3).get(), alpha=0.4)"
   ]
  }
 ],
 "metadata": {
  "kernelspec": {
   "display_name": "Kidney (3.7)",
   "language": "python",
   "name": "kidney"
  },
  "language_info": {
   "codemirror_mode": {
    "name": "ipython",
    "version": 3
   },
   "file_extension": ".py",
   "mimetype": "text/x-python",
   "name": "python",
   "nbconvert_exporter": "python",
   "pygments_lexer": "ipython3",
   "version": "3.7.8"
  }
 },
 "nbformat": 4,
 "nbformat_minor": 4
}
