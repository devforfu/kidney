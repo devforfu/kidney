{
 "cells": [
  {
   "cell_type": "code",
   "execution_count": null,
   "metadata": {},
   "outputs": [],
   "source": [
    "%reload_ext autoreload\n",
    "%autoreload 2\n",
    "%matplotlib inline\n",
    "import zeus.notebook_utils.syspath as syspath\n",
    "syspath.add_parent_folder()"
   ]
  },
  {
   "cell_type": "code",
   "execution_count": null,
   "metadata": {},
   "outputs": [],
   "source": [
    "import cv2 as cv\n",
    "import numpy as np\n",
    "import matplotlib.pyplot as plt\n",
    "from monai.data import create_test_image_2d\n",
    "from kidney.datasets.kaggle import get_reader, SampleType"
   ]
  },
  {
   "cell_type": "code",
   "execution_count": null,
   "metadata": {},
   "outputs": [],
   "source": [
    "reader = get_reader()"
   ]
  },
  {
   "cell_type": "code",
   "execution_count": null,
   "metadata": {},
   "outputs": [],
   "source": [
    "key = reader.get_keys(SampleType.Labeled)[0]"
   ]
  },
  {
   "cell_type": "code",
   "execution_count": null,
   "metadata": {},
   "outputs": [],
   "source": [
    "sample = reader.fetch_one(key)"
   ]
  },
  {
   "cell_type": "code",
   "execution_count": null,
   "metadata": {},
   "outputs": [],
   "source": [
    "sample.keys()"
   ]
  },
  {
   "cell_type": "code",
   "execution_count": null,
   "metadata": {},
   "outputs": [],
   "source": [
    "sample[\"image\"].shape, sample[\"mask\"].shape"
   ]
  },
  {
   "cell_type": "code",
   "execution_count": null,
   "metadata": {},
   "outputs": [],
   "source": [
    "img, seg = create_test_image_2d(256, 256, num_seg_classes=3, num_objs=12, noise_max=0.3, rad_max=50)"
   ]
  },
  {
   "cell_type": "code",
   "execution_count": null,
   "metadata": {},
   "outputs": [],
   "source": [
    "plt.imshow(img, cmap=\"gray\")"
   ]
  },
  {
   "cell_type": "code",
   "execution_count": null,
   "metadata": {},
   "outputs": [],
   "source": [
    "m1, m2, m3 = [(seg == i).astype(np.uint8) for i in range(1, 4)]"
   ]
  },
  {
   "cell_type": "code",
   "execution_count": null,
   "metadata": {},
   "outputs": [],
   "source": [
    "plt.imshow(m1, cmap=\"gray\")"
   ]
  },
  {
   "cell_type": "code",
   "execution_count": null,
   "metadata": {},
   "outputs": [],
   "source": [
    "from typing import List, Tuple"
   ]
  },
  {
   "cell_type": "code",
   "execution_count": null,
   "metadata": {},
   "outputs": [],
   "source": [
    "def overlay_masks(\n",
    "    image: np.ndarray,\n",
    "    masks: List[Tuple[np.ndarray, Tuple[int, int, int]]],\n",
    "    convert_to_uint: bool = True\n",
    "):\n",
    "    assert image.ndim == 3\n",
    "    assert convert_to_uint or image.dtype == np.uint8    \n",
    "\n",
    "    _verify_overlay_masks_input(image, masks)\n",
    "    \n",
    "    image = image.astype(np.uint8) if convert_to_uint else image\n",
    "    base = image.copy()\n",
    "    for mask, color in masks:\n",
    "        image[mask == 1] = color\n",
    "    overlayed = cv.addWeighted(base, 0.5, image, 0.5, 0)\n",
    "    return overlayed\n",
    "\n",
    "        \n",
    "def _verify_overlay_masks_input(image: np.ndarray, masks: List):\n",
    "    for mask, color in masks:\n",
    "        assert mask.ndim == 2\n",
    "        assert mask.dtype == np.uint8\n",
    "        assert mask.shape[:2] == image.shape[:2]\n",
    "        assert len(color) == 3"
   ]
  },
  {
   "cell_type": "code",
   "execution_count": null,
   "metadata": {},
   "outputs": [],
   "source": [
    "u_img = (np.repeat(img[:, :, np.newaxis], 3, axis=-1) * 255).astype(np.uint8)\n",
    "\n",
    "colored_masks = [\n",
    "    (m1, (255, 0, 0)),\n",
    "    (m2, (0, 255, 0)),\n",
    "    (m3, (0, 0, 255))\n",
    "]\n",
    "\n",
    "plt.imshow(overlay_masks(u_img, colored_masks))"
   ]
  }
 ],
 "metadata": {
  "kernelspec": {
   "display_name": "Kidney (3.7)",
   "language": "python",
   "name": "kidney"
  },
  "language_info": {
   "codemirror_mode": {
    "name": "ipython",
    "version": 3
   },
   "file_extension": ".py",
   "mimetype": "text/x-python",
   "name": "python",
   "nbconvert_exporter": "python",
   "pygments_lexer": "ipython3",
   "version": "3.7.8"
  }
 },
 "nbformat": 4,
 "nbformat_minor": 4
}
