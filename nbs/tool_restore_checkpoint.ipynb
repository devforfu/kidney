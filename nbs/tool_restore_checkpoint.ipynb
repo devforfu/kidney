{
 "cells": [
  {
   "cell_type": "code",
   "execution_count": null,
   "metadata": {},
   "outputs": [],
   "source": [
    "%reload_ext autoreload\n",
    "%autoreload 2\n",
    "import zeus.notebook_utils.syspath as syspath\n",
    "syspath.add_parent_folder()"
   ]
  },
  {
   "cell_type": "code",
   "execution_count": null,
   "metadata": {},
   "outputs": [],
   "source": [
    "from multiprocessing import cpu_count\n",
    "\n",
    "import torch\n",
    "import numpy as np\n",
    "from zeus.utils import home\n",
    "from zeus.plotting.utils import axes\n",
    "\n",
    "from kidney.datasets.segmentation import create_data_loaders\n",
    "from kidney.experiments.patches import SegmentationExperiment\n",
    "from kidney.utils.checkpoints import CheckpointsStorage\n",
    "from kidney.utils.plotting import preview, preview_arrays"
   ]
  },
  {
   "cell_type": "code",
   "execution_count": null,
   "metadata": {},
   "outputs": [],
   "source": [
    "experiment, checkpoint = CheckpointsStorage.create(\n",
    "    SegmentationExperiment, home(\"experiments/patches/checkpoints\"), \"avg_val_loss\"\n",
    ")"
   ]
  },
  {
   "cell_type": "code",
   "execution_count": null,
   "metadata": {},
   "outputs": [],
   "source": [
    "info = checkpoint.meta\n",
    "info.keys()"
   ]
  },
  {
   "cell_type": "code",
   "execution_count": null,
   "metadata": {},
   "outputs": [],
   "source": [
    "loaders = create_data_loaders(info[\"data\"], info[\"transformers\"], num_workers=cpu_count(), batch_size=16)"
   ]
  },
  {
   "cell_type": "code",
   "execution_count": null,
   "metadata": {},
   "outputs": [],
   "source": [
    "batch = next(iter(loaders['valid']))"
   ]
  },
  {
   "cell_type": "code",
   "execution_count": null,
   "metadata": {},
   "outputs": [],
   "source": [
    "with torch.no_grad():\n",
    "    outputs = experiment(batch)['outputs']\n",
    "    outputs = info[\"transformers\"].post(outputs)"
   ]
  },
  {
   "cell_type": "code",
   "execution_count": null,
   "metadata": {},
   "outputs": [],
   "source": [
    "for image, gt, pred, ax in zip(\n",
    "    batch['img'].numpy(),\n",
    "    batch['seg'].squeeze().numpy(),\n",
    "    outputs.squeeze().numpy(),\n",
    "    axes(subplots=(4, 4), figsize=(14, 14)).flat\n",
    "):\n",
    "    preview_arrays(\n",
    "        (image*255).astype(np.uint8),\n",
    "        gt=gt,\n",
    "        pred=pred,\n",
    "        overlay_config=dict(resize=None),\n",
    "        ax=ax\n",
    "    )"
   ]
  }
 ],
 "metadata": {
  "kernelspec": {
   "display_name": "Kidney (3.7)",
   "language": "python",
   "name": "kidney"
  },
  "language_info": {
   "codemirror_mode": {
    "name": "ipython",
    "version": 3
   },
   "file_extension": ".py",
   "mimetype": "text/x-python",
   "name": "python",
   "nbconvert_exporter": "python",
   "pygments_lexer": "ipython3",
   "version": "3.7.8"
  }
 },
 "nbformat": 4,
 "nbformat_minor": 4
}
